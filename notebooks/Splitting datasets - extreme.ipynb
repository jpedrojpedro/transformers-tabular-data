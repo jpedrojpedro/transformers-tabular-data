{
 "cells": [
  {
   "cell_type": "code",
   "execution_count": 259,
   "id": "ae87276d-904e-4f21-a551-972f6e96dbcc",
   "metadata": {},
   "outputs": [],
   "source": [
    "import pandas as pd\n",
    "import numpy as np\n",
    "import random\n",
    "from random import randrange"
   ]
  },
  {
   "cell_type": "code",
   "execution_count": 260,
   "id": "ff27e437-d3c7-47de-a664-07b00e0d68c5",
   "metadata": {},
   "outputs": [
    {
     "name": "stdout",
     "output_type": "stream",
     "text": [
      "4177\n",
      "4172\n"
     ]
    },
    {
     "data": {
      "text/html": [
       "<div>\n",
       "<style scoped>\n",
       "    .dataframe tbody tr th:only-of-type {\n",
       "        vertical-align: middle;\n",
       "    }\n",
       "\n",
       "    .dataframe tbody tr th {\n",
       "        vertical-align: top;\n",
       "    }\n",
       "\n",
       "    .dataframe thead th {\n",
       "        text-align: right;\n",
       "    }\n",
       "</style>\n",
       "<table border=\"1\" class=\"dataframe\">\n",
       "  <thead>\n",
       "    <tr style=\"text-align: right;\">\n",
       "      <th></th>\n",
       "      <th>sex</th>\n",
       "      <th>length</th>\n",
       "      <th>diameter</th>\n",
       "      <th>height</th>\n",
       "      <th>whole weight</th>\n",
       "      <th>shucked weight</th>\n",
       "      <th>viscera weight</th>\n",
       "      <th>shell weight</th>\n",
       "      <th>age</th>\n",
       "    </tr>\n",
       "  </thead>\n",
       "  <tbody>\n",
       "    <tr>\n",
       "      <th>0</th>\n",
       "      <td>1</td>\n",
       "      <td>0.455</td>\n",
       "      <td>0.365</td>\n",
       "      <td>0.095</td>\n",
       "      <td>0.5140</td>\n",
       "      <td>0.2245</td>\n",
       "      <td>0.1010</td>\n",
       "      <td>0.150</td>\n",
       "      <td>15</td>\n",
       "    </tr>\n",
       "    <tr>\n",
       "      <th>1</th>\n",
       "      <td>1</td>\n",
       "      <td>0.350</td>\n",
       "      <td>0.265</td>\n",
       "      <td>0.090</td>\n",
       "      <td>0.2255</td>\n",
       "      <td>0.0995</td>\n",
       "      <td>0.0485</td>\n",
       "      <td>0.070</td>\n",
       "      <td>7</td>\n",
       "    </tr>\n",
       "    <tr>\n",
       "      <th>2</th>\n",
       "      <td>2</td>\n",
       "      <td>0.530</td>\n",
       "      <td>0.420</td>\n",
       "      <td>0.135</td>\n",
       "      <td>0.6770</td>\n",
       "      <td>0.2565</td>\n",
       "      <td>0.1415</td>\n",
       "      <td>0.210</td>\n",
       "      <td>9</td>\n",
       "    </tr>\n",
       "    <tr>\n",
       "      <th>3</th>\n",
       "      <td>1</td>\n",
       "      <td>0.440</td>\n",
       "      <td>0.365</td>\n",
       "      <td>0.125</td>\n",
       "      <td>0.5160</td>\n",
       "      <td>0.2155</td>\n",
       "      <td>0.1140</td>\n",
       "      <td>0.155</td>\n",
       "      <td>10</td>\n",
       "    </tr>\n",
       "    <tr>\n",
       "      <th>4</th>\n",
       "      <td>0</td>\n",
       "      <td>0.330</td>\n",
       "      <td>0.255</td>\n",
       "      <td>0.080</td>\n",
       "      <td>0.2050</td>\n",
       "      <td>0.0895</td>\n",
       "      <td>0.0395</td>\n",
       "      <td>0.055</td>\n",
       "      <td>7</td>\n",
       "    </tr>\n",
       "  </tbody>\n",
       "</table>\n",
       "</div>"
      ],
      "text/plain": [
       "   sex  length  diameter  height  whole weight  shucked weight  \\\n",
       "0    1   0.455     0.365   0.095        0.5140          0.2245   \n",
       "1    1   0.350     0.265   0.090        0.2255          0.0995   \n",
       "2    2   0.530     0.420   0.135        0.6770          0.2565   \n",
       "3    1   0.440     0.365   0.125        0.5160          0.2155   \n",
       "4    0   0.330     0.255   0.080        0.2050          0.0895   \n",
       "\n",
       "   viscera weight  shell weight  age  \n",
       "0          0.1010         0.150   15  \n",
       "1          0.0485         0.070    7  \n",
       "2          0.1415         0.210    9  \n",
       "3          0.1140         0.155   10  \n",
       "4          0.0395         0.055    7  "
      ]
     },
     "execution_count": 260,
     "metadata": {},
     "output_type": "execute_result"
    }
   ],
   "source": [
    "parent = '../datasets/'\n",
    "dataset_name = 'abalone'\n",
    "location = parent + dataset_name + '/' + dataset_name + '.csv'\n",
    "\n",
    "data = pd.read_csv(location, header=0)\n",
    "print(len(data))\n",
    "unique_ages = [1, 2, 25, 26, 29]\n",
    "data = data[~data['age'].isin(unique_ages)].reset_index(drop=True)\n",
    "print(len(data))\n",
    "\n",
    "data.head()"
   ]
  },
  {
   "cell_type": "code",
   "execution_count": 261,
   "id": "cad26099-cb90-453b-b69d-e9e9a93ce3d2",
   "metadata": {},
   "outputs": [],
   "source": [
    "# 1, 2, 25, 26, 29\n",
    "# 24, 27"
   ]
  },
  {
   "cell_type": "code",
   "execution_count": 262,
   "id": "6c8adf36-c137-4af5-8f2a-c97693507d2c",
   "metadata": {},
   "outputs": [
    {
     "name": "stdout",
     "output_type": "stream",
     "text": [
      "4172\n",
      "4168\n"
     ]
    }
   ],
   "source": [
    "## --- ABALONE DATASET --- ###\n",
    "\n",
    "double_ages = []\n",
    "double_rows = []\n",
    "for age in set(data['age']):        \n",
    "    if len(data[data['age'] == age]) == 2:\n",
    "        double_ages.append(age)\n",
    "        df_aux = data[data['age'] == age].reset_index(drop=True)\n",
    "        double_rows.append(df_aux.iloc[[0]])\n",
    "        double_rows.append(df_aux.iloc[[1]])\n",
    "        \n",
    "print(len(data))\n",
    "data = data[~data['age'].isin(double_ages)].reset_index(drop=True)\n",
    "print(len(data))"
   ]
  },
  {
   "cell_type": "code",
   "execution_count": 263,
   "id": "7f903cf5-9717-4518-be06-2264b16c7822",
   "metadata": {},
   "outputs": [
    {
     "name": "stdout",
     "output_type": "stream",
     "text": [
      "21\n",
      "{3, 4, 5, 6, 7, 8, 9, 10, 11, 12, 13, 14, 15, 16, 17, 18, 19, 20, 21, 22, 23}\n"
     ]
    }
   ],
   "source": [
    "print(len(set(data['age'])))\n",
    "print(set(data['age']))"
   ]
  },
  {
   "cell_type": "code",
   "execution_count": 264,
   "id": "0a92ec09-5803-43e7-b6a5-e48aa6393d3a",
   "metadata": {},
   "outputs": [],
   "source": [
    "### --- NURSERY DATASET --- ###\n",
    "\n",
    "# df_aux = data[data['nursery'] == 'recommend'].reset_index(drop=True)\n",
    "# row_test = df_aux.iloc[[0]]\n",
    "# row_train = df_aux.iloc[[1]]\n",
    "\n",
    "# print(len(data))\n",
    "# data = data[data['nursery'] != 'recommend'].reset_index(drop=True)\n",
    "# print(len(data))"
   ]
  },
  {
   "cell_type": "code",
   "execution_count": 265,
   "id": "d1bf2491-0867-40cd-9623-5989c40eedfa",
   "metadata": {},
   "outputs": [
    {
     "name": "stdout",
     "output_type": "stream",
     "text": [
      "0.99\n"
     ]
    }
   ],
   "source": [
    "perc = 1\n",
    "test_param = 1 - perc*0.01\n",
    "print(test_param)"
   ]
  },
  {
   "cell_type": "code",
   "execution_count": 266,
   "id": "598f0ea6-1d35-4033-9da1-f8cc777448bc",
   "metadata": {},
   "outputs": [],
   "source": [
    "from sklearn.model_selection import StratifiedShuffleSplit\n",
    "split = StratifiedShuffleSplit(n_splits=1, test_size=test_param, random_state=42)\n",
    "for train_index, test_index in split.split(data, data[data.columns[-1]]):\n",
    "    train_set = data.loc[train_index]\n",
    "    test_set = data.loc[test_index]\n",
    "\n",
    "train_set = train_set.reset_index(drop=True)\n",
    "test_set = test_set.reset_index(drop=True)"
   ]
  },
  {
   "cell_type": "code",
   "execution_count": 272,
   "id": "8f3a0e92-4560-483b-8e9e-9906762f1d2e",
   "metadata": {},
   "outputs": [
    {
     "name": "stdout",
     "output_type": "stream",
     "text": [
      "Train: 50\n",
      "Test 4122\n",
      "Total: 4172\n",
      "%train: 0.011984659635666348\n"
     ]
    }
   ],
   "source": [
    "print('Train:', len(train_set))\n",
    "print('Test', len(test_set))\n",
    "len_total = len(train_set) + len(test_set)\n",
    "print('Total:', len_total)\n",
    "print('%train:', len(train_set)/len_total)"
   ]
  },
  {
   "cell_type": "code",
   "execution_count": 268,
   "id": "c7c02ed0-e52b-4592-b477-e63a511739e5",
   "metadata": {},
   "outputs": [],
   "source": [
    "i = 0\n",
    "while i < len(double_rows):\n",
    "    idx = randrange(len(test_set))\n",
    "    train_set = pd.concat([train_set.iloc[:idx], double_rows[i], train_set.iloc[idx:]]).reset_index(drop=True)\n",
    "    i += 1\n",
    "    idx = randrange(len(test_set))\n",
    "    test_set = pd.concat([test_set.iloc[:idx], double_rows[i], test_set.iloc[idx:]]).reset_index(drop=True)\n",
    "    i += 1"
   ]
  },
  {
   "cell_type": "code",
   "execution_count": 269,
   "id": "d5ece5cf-8d22-4972-854c-02b5b2252dc4",
   "metadata": {},
   "outputs": [
    {
     "data": {
      "text/plain": [
       "{3, 18, 19, 20, 21, 22, 23}"
      ]
     },
     "execution_count": 269,
     "metadata": {},
     "output_type": "execute_result"
    }
   ],
   "source": [
    "diff = set(test_set['age']) - set(train_set['age'])\n",
    "diff"
   ]
  },
  {
   "cell_type": "code",
   "execution_count": 270,
   "id": "9bb45f8b-de5a-4c82-8e44-af241035a257",
   "metadata": {},
   "outputs": [],
   "source": [
    "indexes = []\n",
    "for age in diff:    \n",
    "    # get random row in test set containing age missing in train set \n",
    "    aux = test_set[test_set['age'] == age]\n",
    "    idx = random.choice(list(aux.index))\n",
    "    indexes.append(idx)\n",
    "    row = test_set.iloc[[idx]]\n",
    "        \n",
    "    # append to train set in random position\n",
    "    new_idx = randrange(len(train_set))\n",
    "    train_set = pd.concat([train_set.iloc[:new_idx], row, train_set.iloc[new_idx:]]).reset_index(drop=True)\n",
    "    \n",
    "for idx in indexes:\n",
    "    # drop from test set\n",
    "    test_set = test_set.drop(index=idx)"
   ]
  },
  {
   "cell_type": "code",
   "execution_count": 271,
   "id": "f804960e-ba5a-4fed-a0ad-8b9926338fbd",
   "metadata": {},
   "outputs": [
    {
     "name": "stdout",
     "output_type": "stream",
     "text": [
      "23\n",
      "23\n"
     ]
    }
   ],
   "source": [
    "print(len(set(train_set['age'])))\n",
    "print(len(set(test_set['age'])))"
   ]
  },
  {
   "cell_type": "code",
   "execution_count": 273,
   "id": "347d4954-79e7-45a2-99c1-77775436ffe7",
   "metadata": {},
   "outputs": [],
   "source": [
    "D = list(map(list, train_set.itertuples(index=False)))\n",
    "\n",
    "train_location = '../datasets/' + dataset_name + '/extreme/' + str(perc) + '/' + dataset_name + '_train_perc' + str(perc) + '.csv'\n",
    "with open(train_location, \"w\") as f:\n",
    "    f.write(','.join(data.columns.tolist()) + '\\n')\n",
    "    for value in D:\n",
    "        a = ','.join([str(i if type(i) == str else round(i,2)).strip() for i in value[0:]]) + '\\n'\n",
    "        f.write(a)"
   ]
  },
  {
   "cell_type": "code",
   "execution_count": 274,
   "id": "a4866e41-9459-418c-8ba9-1cc7c84ab1ad",
   "metadata": {},
   "outputs": [],
   "source": [
    "D = list(map(list, test_set.itertuples(index=False)))\n",
    "\n",
    "test_location = '../datasets/' + dataset_name + '/extreme/' + str(perc) + '/' + dataset_name + '_test_perc' + str(perc) + '.csv'\n",
    "with open(test_location, \"w\") as f:\n",
    "    f.write(','.join(data.columns.tolist()) + '\\n')\n",
    "    for value in D:\n",
    "        a = ','.join([str(i if type(i) == str else round(i,2)).strip() for i in value[0:]]) + '\\n'\n",
    "        f.write(a)"
   ]
  },
  {
   "cell_type": "code",
   "execution_count": null,
   "id": "d9ff9e3e-c64a-4267-9fb0-9d0e51940e4f",
   "metadata": {},
   "outputs": [],
   "source": []
  }
 ],
 "metadata": {
  "kernelspec": {
   "display_name": "Deep Learning",
   "language": "python",
   "name": "dl"
  },
  "language_info": {
   "codemirror_mode": {
    "name": "ipython",
    "version": 3
   },
   "file_extension": ".py",
   "mimetype": "text/x-python",
   "name": "python",
   "nbconvert_exporter": "python",
   "pygments_lexer": "ipython3",
   "version": "3.6.13"
  }
 },
 "nbformat": 4,
 "nbformat_minor": 5
}
