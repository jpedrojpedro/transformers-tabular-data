{
 "cells": [
  {
   "cell_type": "code",
   "execution_count": 1,
   "id": "ae87276d-904e-4f21-a551-972f6e96dbcc",
   "metadata": {},
   "outputs": [],
   "source": [
    "import pandas as pd\n",
    "import numpy as np"
   ]
  },
  {
   "cell_type": "code",
   "execution_count": 2,
   "id": "ff27e437-d3c7-47de-a664-07b00e0d68c5",
   "metadata": {},
   "outputs": [
    {
     "data": {
      "text/html": [
       "<div>\n",
       "<style scoped>\n",
       "    .dataframe tbody tr th:only-of-type {\n",
       "        vertical-align: middle;\n",
       "    }\n",
       "\n",
       "    .dataframe tbody tr th {\n",
       "        vertical-align: top;\n",
       "    }\n",
       "\n",
       "    .dataframe thead th {\n",
       "        text-align: right;\n",
       "    }\n",
       "</style>\n",
       "<table border=\"1\" class=\"dataframe\">\n",
       "  <thead>\n",
       "    <tr style=\"text-align: right;\">\n",
       "      <th></th>\n",
       "      <th>sepal length</th>\n",
       "      <th>sepal width</th>\n",
       "      <th>petal length</th>\n",
       "      <th>petal width</th>\n",
       "      <th>class</th>\n",
       "    </tr>\n",
       "  </thead>\n",
       "  <tbody>\n",
       "    <tr>\n",
       "      <th>0</th>\n",
       "      <td>5.1</td>\n",
       "      <td>3.5</td>\n",
       "      <td>1.4</td>\n",
       "      <td>0.2</td>\n",
       "      <td>0</td>\n",
       "    </tr>\n",
       "    <tr>\n",
       "      <th>1</th>\n",
       "      <td>4.9</td>\n",
       "      <td>3.0</td>\n",
       "      <td>1.4</td>\n",
       "      <td>0.2</td>\n",
       "      <td>0</td>\n",
       "    </tr>\n",
       "    <tr>\n",
       "      <th>2</th>\n",
       "      <td>4.7</td>\n",
       "      <td>3.2</td>\n",
       "      <td>1.3</td>\n",
       "      <td>0.2</td>\n",
       "      <td>0</td>\n",
       "    </tr>\n",
       "    <tr>\n",
       "      <th>3</th>\n",
       "      <td>4.6</td>\n",
       "      <td>3.1</td>\n",
       "      <td>1.5</td>\n",
       "      <td>0.2</td>\n",
       "      <td>0</td>\n",
       "    </tr>\n",
       "    <tr>\n",
       "      <th>4</th>\n",
       "      <td>5.0</td>\n",
       "      <td>3.6</td>\n",
       "      <td>1.4</td>\n",
       "      <td>0.2</td>\n",
       "      <td>0</td>\n",
       "    </tr>\n",
       "  </tbody>\n",
       "</table>\n",
       "</div>"
      ],
      "text/plain": [
       "   sepal length  sepal width  petal length  petal width  class\n",
       "0           5.1          3.5           1.4          0.2      0\n",
       "1           4.9          3.0           1.4          0.2      0\n",
       "2           4.7          3.2           1.3          0.2      0\n",
       "3           4.6          3.1           1.5          0.2      0\n",
       "4           5.0          3.6           1.4          0.2      0"
      ]
     },
     "execution_count": 2,
     "metadata": {},
     "output_type": "execute_result"
    }
   ],
   "source": [
    "parent = '../datasets/'\n",
    "dataset_name = 'iris'\n",
    "location = parent + dataset_name + '/' + dataset_name + '.csv'\n",
    "\n",
    "data = pd.read_csv(location, header=0)\n",
    "# data = data.dropna(axis=1, how='all')\n",
    "# print(len(data))\n",
    "\n",
    "data.head()"
   ]
  },
  {
   "cell_type": "code",
   "execution_count": 3,
   "id": "d70a4957-713b-4e2f-bf2b-c1b92fd9cb24",
   "metadata": {},
   "outputs": [
    {
     "data": {
      "text/plain": [
       "Index(['sepal length', 'sepal width', 'petal length', 'petal width', 'class'], dtype='object')"
      ]
     },
     "execution_count": 3,
     "metadata": {},
     "output_type": "execute_result"
    }
   ],
   "source": [
    "data.columns"
   ]
  },
  {
   "cell_type": "code",
   "execution_count": 19,
   "id": "d1bf2491-0867-40cd-9623-5989c40eedfa",
   "metadata": {},
   "outputs": [
    {
     "name": "stdout",
     "output_type": "stream",
     "text": [
      "0.97\n"
     ]
    }
   ],
   "source": [
    "perc = 80\n",
    "test_param = 1 - perc*0.01\n",
    "print(test_param)"
   ]
  },
  {
   "cell_type": "code",
   "execution_count": 20,
   "id": "598f0ea6-1d35-4033-9da1-f8cc777448bc",
   "metadata": {},
   "outputs": [],
   "source": [
    "from sklearn.model_selection import StratifiedShuffleSplit\n",
    "split = StratifiedShuffleSplit(n_splits=1, test_size=test_param, random_state=42)\n",
    "for train_index, test_index in split.split(data, data[data.columns[-1]]):\n",
    "    train_set = data.loc[train_index]\n",
    "    test_set = data.loc[test_index]\n",
    "\n",
    "train_set = train_set.reset_index(drop=True)\n",
    "test_set = test_set.reset_index(drop=True)"
   ]
  },
  {
   "cell_type": "code",
   "execution_count": 21,
   "id": "8f3a0e92-4560-483b-8e9e-9906762f1d2e",
   "metadata": {},
   "outputs": [
    {
     "name": "stdout",
     "output_type": "stream",
     "text": [
      "Train: 4\n",
      "Test 146\n",
      "Total: 150\n",
      "%train: 0.02666666666666667\n"
     ]
    }
   ],
   "source": [
    "print('Train:', len(train_set))\n",
    "print('Test', len(test_set))\n",
    "len_total = len(train_set) + len(test_set)\n",
    "print('Total:', len_total)\n",
    "print('%train:', len(train_set)/len_total)"
   ]
  },
  {
   "cell_type": "code",
   "execution_count": 23,
   "id": "347d4954-79e7-45a2-99c1-77775436ffe7",
   "metadata": {},
   "outputs": [],
   "source": [
    "D = list(map(list, train_set.itertuples(index=False)))\n",
    "\n",
    "train_location = '../datasets/' + dataset_name + '/extreme/' + str(perc) + '/' + dataset_name + '_train_perc' + str(perc) + '.csv'\n",
    "with open(train_location, \"w\") as f:\n",
    "    f.write(','.join(data.columns.tolist()) + '\\n')\n",
    "    for value in D:\n",
    "        a = ','.join([str(i if type(i) == str else round(i,2)).strip() for i in value[0:]]) + '\\n'\n",
    "        f.write(a)"
   ]
  },
  {
   "cell_type": "code",
   "execution_count": 24,
   "id": "a4866e41-9459-418c-8ba9-1cc7c84ab1ad",
   "metadata": {},
   "outputs": [],
   "source": [
    "D = list(map(list, test_set.itertuples(index=False)))\n",
    "\n",
    "test_location = '../datasets/' + dataset_name + '/extreme/' + str(perc) + '/' + dataset_name + '_test_perc' + str(perc) + '.csv'\n",
    "with open(test_location, \"w\") as f:\n",
    "    f.write(','.join(data.columns.tolist()) + '\\n')\n",
    "    for value in D:\n",
    "        a = ','.join([str(i if type(i) == str else round(i,2)).strip() for i in value[0:]]) + '\\n'\n",
    "        f.write(a)"
   ]
  },
  {
   "cell_type": "code",
   "execution_count": null,
   "id": "997c6b9a-0f0d-4d9b-b474-535cde9438b6",
   "metadata": {},
   "outputs": [],
   "source": []
  }
 ],
 "metadata": {
  "kernelspec": {
   "display_name": "Deep Learning",
   "language": "python",
   "name": "dl"
  },
  "language_info": {
   "codemirror_mode": {
    "name": "ipython",
    "version": 3
   },
   "file_extension": ".py",
   "mimetype": "text/x-python",
   "name": "python",
   "nbconvert_exporter": "python",
   "pygments_lexer": "ipython3",
   "version": "3.6.13"
  }
 },
 "nbformat": 4,
 "nbformat_minor": 5
}
