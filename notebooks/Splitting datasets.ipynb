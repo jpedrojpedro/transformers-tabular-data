{
 "cells": [
  {
   "cell_type": "code",
   "execution_count": 1,
   "id": "ae87276d-904e-4f21-a551-972f6e96dbcc",
   "metadata": {},
   "outputs": [],
   "source": [
    "import pandas as pd\n",
    "import numpy as np"
   ]
  },
  {
   "cell_type": "code",
   "execution_count": 2,
   "id": "ff27e437-d3c7-47de-a664-07b00e0d68c5",
   "metadata": {},
   "outputs": [
    {
     "data": {
      "text/html": [
       "<div>\n",
       "<style scoped>\n",
       "    .dataframe tbody tr th:only-of-type {\n",
       "        vertical-align: middle;\n",
       "    }\n",
       "\n",
       "    .dataframe tbody tr th {\n",
       "        vertical-align: top;\n",
       "    }\n",
       "\n",
       "    .dataframe thead th {\n",
       "        text-align: right;\n",
       "    }\n",
       "</style>\n",
       "<table border=\"1\" class=\"dataframe\">\n",
       "  <thead>\n",
       "    <tr style=\"text-align: right;\">\n",
       "      <th></th>\n",
       "      <th>parents</th>\n",
       "      <th>has_nurs</th>\n",
       "      <th>form</th>\n",
       "      <th>children</th>\n",
       "      <th>housing</th>\n",
       "      <th>finance</th>\n",
       "      <th>social</th>\n",
       "      <th>health</th>\n",
       "      <th>nursery</th>\n",
       "    </tr>\n",
       "  </thead>\n",
       "  <tbody>\n",
       "    <tr>\n",
       "      <th>0</th>\n",
       "      <td>usual</td>\n",
       "      <td>proper</td>\n",
       "      <td>complete</td>\n",
       "      <td>1</td>\n",
       "      <td>convenient</td>\n",
       "      <td>convenient</td>\n",
       "      <td>nonprob</td>\n",
       "      <td>priority</td>\n",
       "      <td>priority</td>\n",
       "    </tr>\n",
       "    <tr>\n",
       "      <th>1</th>\n",
       "      <td>usual</td>\n",
       "      <td>proper</td>\n",
       "      <td>complete</td>\n",
       "      <td>1</td>\n",
       "      <td>convenient</td>\n",
       "      <td>convenient</td>\n",
       "      <td>nonprob</td>\n",
       "      <td>not_recom</td>\n",
       "      <td>not_recom</td>\n",
       "    </tr>\n",
       "    <tr>\n",
       "      <th>2</th>\n",
       "      <td>usual</td>\n",
       "      <td>proper</td>\n",
       "      <td>complete</td>\n",
       "      <td>1</td>\n",
       "      <td>convenient</td>\n",
       "      <td>convenient</td>\n",
       "      <td>slightly_prob</td>\n",
       "      <td>priority</td>\n",
       "      <td>priority</td>\n",
       "    </tr>\n",
       "    <tr>\n",
       "      <th>3</th>\n",
       "      <td>usual</td>\n",
       "      <td>proper</td>\n",
       "      <td>complete</td>\n",
       "      <td>1</td>\n",
       "      <td>convenient</td>\n",
       "      <td>convenient</td>\n",
       "      <td>slightly_prob</td>\n",
       "      <td>not_recom</td>\n",
       "      <td>not_recom</td>\n",
       "    </tr>\n",
       "    <tr>\n",
       "      <th>4</th>\n",
       "      <td>usual</td>\n",
       "      <td>proper</td>\n",
       "      <td>complete</td>\n",
       "      <td>1</td>\n",
       "      <td>convenient</td>\n",
       "      <td>convenient</td>\n",
       "      <td>problematic</td>\n",
       "      <td>recommended</td>\n",
       "      <td>priority</td>\n",
       "    </tr>\n",
       "  </tbody>\n",
       "</table>\n",
       "</div>"
      ],
      "text/plain": [
       "  parents has_nurs      form children     housing     finance         social  \\\n",
       "0   usual   proper  complete        1  convenient  convenient        nonprob   \n",
       "1   usual   proper  complete        1  convenient  convenient        nonprob   \n",
       "2   usual   proper  complete        1  convenient  convenient  slightly_prob   \n",
       "3   usual   proper  complete        1  convenient  convenient  slightly_prob   \n",
       "4   usual   proper  complete        1  convenient  convenient    problematic   \n",
       "\n",
       "        health    nursery  \n",
       "0     priority   priority  \n",
       "1    not_recom  not_recom  \n",
       "2     priority   priority  \n",
       "3    not_recom  not_recom  \n",
       "4  recommended   priority  "
      ]
     },
     "execution_count": 2,
     "metadata": {},
     "output_type": "execute_result"
    }
   ],
   "source": [
    "parent = '../datasets/'\n",
    "repository = 'nursery'\n",
    "location = parent + repository + '/' + repository + '.csv'\n",
    "\n",
    "data = pd.read_csv(location, header=0)\n",
    "# data = data.dropna(axis=1, how='all')\n",
    "# print(len(data))\n",
    "\n",
    "data.head()"
   ]
  },
  {
   "cell_type": "code",
   "execution_count": 4,
   "id": "d70a4957-713b-4e2f-bf2b-c1b92fd9cb24",
   "metadata": {},
   "outputs": [
    {
     "data": {
      "text/plain": [
       "Index(['parents', 'has_nurs', 'form', 'children', 'housing', 'finance',\n",
       "       'social', 'health', 'nursery'],\n",
       "      dtype='object')"
      ]
     },
     "execution_count": 4,
     "metadata": {},
     "output_type": "execute_result"
    }
   ],
   "source": [
    "data.columns"
   ]
  },
  {
   "cell_type": "code",
   "execution_count": 17,
   "id": "598f0ea6-1d35-4033-9da1-f8cc777448bc",
   "metadata": {},
   "outputs": [],
   "source": [
    "from sklearn.model_selection import StratifiedShuffleSplit\n",
    "split = StratifiedShuffleSplit(n_splits=1, test_size=0.99, random_state=42)\n",
    "for train_index, test_index in split.split(data, data[data.columns[-1]]):\n",
    "    train_set = data.loc[train_index]\n",
    "    test_set = data.loc[test_index]\n",
    "\n",
    "train_set = train_set.reset_index(drop=True)\n",
    "test_set = test_set.reset_index(drop=True)"
   ]
  },
  {
   "cell_type": "code",
   "execution_count": 18,
   "id": "8f3a0e92-4560-483b-8e9e-9906762f1d2e",
   "metadata": {},
   "outputs": [
    {
     "name": "stdout",
     "output_type": "stream",
     "text": [
      "Train: 126\n",
      "Test 12504\n",
      "Total: 12630\n",
      "%train: 0.009976247030878859\n"
     ]
    }
   ],
   "source": [
    "print('Train:', len(train_set))\n",
    "print('Test', len(test_set))\n",
    "len_total = len(train_set) + len(test_set)\n",
    "print('Total:', len_total)\n",
    "print('%train:', len(train_set)/len_total)"
   ]
  },
  {
   "cell_type": "code",
   "execution_count": 19,
   "id": "347d4954-79e7-45a2-99c1-77775436ffe7",
   "metadata": {},
   "outputs": [],
   "source": [
    "D = list(map(list, train_set.itertuples(index=False)))\n",
    "\n",
    "    \n",
    "with open('../datasets/' + repository + '/1/' + repository + '_' + 'train.csv', \"w\") as f:\n",
    "    f.write(', '.join(data.columns.tolist()) + '\\n')\n",
    "    for value in D:\n",
    "        a = ', '.join([str(i if type(i) == str else round(i,2)).strip() for i in value[0:]]) + '\\n'\n",
    "        f.write(a)"
   ]
  },
  {
   "cell_type": "code",
   "execution_count": 20,
   "id": "a4866e41-9459-418c-8ba9-1cc7c84ab1ad",
   "metadata": {},
   "outputs": [],
   "source": [
    "D = list(map(list, test_set.itertuples(index=False)))\n",
    "\n",
    "    \n",
    "with open('../datasets/' + repository + '/1/' + repository + '_' + 'test.csv', \"w\") as f:\n",
    "    f.write(', '.join(data.columns.tolist()) + '\\n')\n",
    "    for value in D:\n",
    "        a = ', '.join([str(i if type(i) == str else round(i,2)).strip() for i in value[0:]]) + '\\n'\n",
    "        f.write(a)"
   ]
  },
  {
   "cell_type": "code",
   "execution_count": null,
   "id": "8378ba23-8a92-4d6c-9334-09e67429973b",
   "metadata": {},
   "outputs": [],
   "source": []
  }
 ],
 "metadata": {
  "kernelspec": {
   "display_name": "Deep Learning",
   "language": "python",
   "name": "dl"
  },
  "language_info": {
   "codemirror_mode": {
    "name": "ipython",
    "version": 3
   },
   "file_extension": ".py",
   "mimetype": "text/x-python",
   "name": "python",
   "nbconvert_exporter": "python",
   "pygments_lexer": "ipython3",
   "version": "3.6.13"
  }
 },
 "nbformat": 4,
 "nbformat_minor": 5
}
