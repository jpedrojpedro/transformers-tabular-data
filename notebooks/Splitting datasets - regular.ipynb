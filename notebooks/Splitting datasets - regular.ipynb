{
 "cells": [
  {
   "cell_type": "code",
   "execution_count": 32,
   "id": "ae87276d-904e-4f21-a551-972f6e96dbcc",
   "metadata": {},
   "outputs": [],
   "source": [
    "import pandas as pd\n",
    "import numpy as np"
   ]
  },
  {
   "cell_type": "markdown",
   "id": "9f374caa-9930-4743-b699-66ca74c15aa7",
   "metadata": {},
   "source": [
    "#### 1. Load dataset"
   ]
  },
  {
   "cell_type": "code",
   "execution_count": 33,
   "id": "b12bb62a-5846-4d1c-9c92-724606702119",
   "metadata": {},
   "outputs": [],
   "source": [
    "repository = 'iris'"
   ]
  },
  {
   "cell_type": "code",
   "execution_count": 34,
   "id": "ff27e437-d3c7-47de-a664-07b00e0d68c5",
   "metadata": {},
   "outputs": [
    {
     "data": {
      "text/html": [
       "<div>\n",
       "<style scoped>\n",
       "    .dataframe tbody tr th:only-of-type {\n",
       "        vertical-align: middle;\n",
       "    }\n",
       "\n",
       "    .dataframe tbody tr th {\n",
       "        vertical-align: top;\n",
       "    }\n",
       "\n",
       "    .dataframe thead th {\n",
       "        text-align: right;\n",
       "    }\n",
       "</style>\n",
       "<table border=\"1\" class=\"dataframe\">\n",
       "  <thead>\n",
       "    <tr style=\"text-align: right;\">\n",
       "      <th></th>\n",
       "      <th>sepal length</th>\n",
       "      <th>sepal width</th>\n",
       "      <th>petal length</th>\n",
       "      <th>petal width</th>\n",
       "      <th>class</th>\n",
       "    </tr>\n",
       "  </thead>\n",
       "  <tbody>\n",
       "    <tr>\n",
       "      <th>0</th>\n",
       "      <td>5.1</td>\n",
       "      <td>3.5</td>\n",
       "      <td>1.4</td>\n",
       "      <td>0.2</td>\n",
       "      <td>0</td>\n",
       "    </tr>\n",
       "    <tr>\n",
       "      <th>1</th>\n",
       "      <td>4.9</td>\n",
       "      <td>3.0</td>\n",
       "      <td>1.4</td>\n",
       "      <td>0.2</td>\n",
       "      <td>0</td>\n",
       "    </tr>\n",
       "    <tr>\n",
       "      <th>2</th>\n",
       "      <td>4.7</td>\n",
       "      <td>3.2</td>\n",
       "      <td>1.3</td>\n",
       "      <td>0.2</td>\n",
       "      <td>0</td>\n",
       "    </tr>\n",
       "    <tr>\n",
       "      <th>3</th>\n",
       "      <td>4.6</td>\n",
       "      <td>3.1</td>\n",
       "      <td>1.5</td>\n",
       "      <td>0.2</td>\n",
       "      <td>0</td>\n",
       "    </tr>\n",
       "    <tr>\n",
       "      <th>4</th>\n",
       "      <td>5.0</td>\n",
       "      <td>3.6</td>\n",
       "      <td>1.4</td>\n",
       "      <td>0.2</td>\n",
       "      <td>0</td>\n",
       "    </tr>\n",
       "  </tbody>\n",
       "</table>\n",
       "</div>"
      ],
      "text/plain": [
       "   sepal length  sepal width  petal length  petal width  class\n",
       "0           5.1          3.5           1.4          0.2      0\n",
       "1           4.9          3.0           1.4          0.2      0\n",
       "2           4.7          3.2           1.3          0.2      0\n",
       "3           4.6          3.1           1.5          0.2      0\n",
       "4           5.0          3.6           1.4          0.2      0"
      ]
     },
     "execution_count": 34,
     "metadata": {},
     "output_type": "execute_result"
    }
   ],
   "source": [
    "parent = '../datasets/'\n",
    "location = parent + repository + '/' + repository + '.csv'\n",
    "\n",
    "data = pd.read_csv(location, header=0)\n",
    "# data = data.dropna(axis=1, how='all')\n",
    "# print(len(data))\n",
    "\n",
    "data.head()"
   ]
  },
  {
   "cell_type": "code",
   "execution_count": 35,
   "id": "2e8b84af-ccee-41be-a468-c17229ee0377",
   "metadata": {},
   "outputs": [],
   "source": [
    "# df_aux = data[data['nursery'] == 'recommend'].reset_index(drop=True)\n",
    "# row_val = df_aux.iloc[[0]]\n",
    "# row_train = df_aux.iloc[[1]]\n",
    "# print(row_val)\n",
    "# print(row_train, '\\n')\n",
    "# df_aux"
   ]
  },
  {
   "cell_type": "code",
   "execution_count": 36,
   "id": "2a664115-62f1-44be-8392-938925622835",
   "metadata": {},
   "outputs": [],
   "source": [
    "# print(len(data))\n",
    "# data = data[data['nursery'] != 'recommend'].reset_index(drop=True)\n",
    "# print(len(data))"
   ]
  },
  {
   "cell_type": "code",
   "execution_count": 37,
   "id": "f92dc7d6-6b38-4176-8721-332c511e9258",
   "metadata": {},
   "outputs": [
    {
     "name": "stdout",
     "output_type": "stream",
     "text": [
      "Columns: ['sepal length', 'sepal width', 'petal length', 'petal width', 'class']\n",
      "Class name: class\n"
     ]
    }
   ],
   "source": [
    "print('Columns:', data.columns.tolist())\n",
    "label_col = data.columns[-1]\n",
    "print('Class name:', label_col)"
   ]
  },
  {
   "cell_type": "code",
   "execution_count": 38,
   "id": "15779adc-998f-4a27-a2ed-58bb8a9e2d7f",
   "metadata": {},
   "outputs": [],
   "source": [
    "def print_percentils(df):\n",
    "    s = df.groupby([df.columns[-1]]).size().astype(float)\n",
    "    total_sum = s.sum()\n",
    "    for i, count in enumerate(s):\n",
    "        new_value = count/total_sum\n",
    "        s[i] = new_value\n",
    "    print(s, '\\n')"
   ]
  },
  {
   "cell_type": "code",
   "execution_count": 39,
   "id": "6f3ec511-a5d8-41d0-8b6b-c4ae896915be",
   "metadata": {},
   "outputs": [
    {
     "name": "stdout",
     "output_type": "stream",
     "text": [
      "class\n",
      "0    0.333333\n",
      "1    0.333333\n",
      "2    0.333333\n",
      "dtype: float64 \n",
      "\n"
     ]
    }
   ],
   "source": [
    "print_percentils(data)"
   ]
  },
  {
   "cell_type": "markdown",
   "id": "58730de3-688b-49c2-8dbc-d400e900900a",
   "metadata": {},
   "source": [
    "#### 2. Split into train, test and validation sets"
   ]
  },
  {
   "cell_type": "code",
   "execution_count": 62,
   "id": "598f0ea6-1d35-4033-9da1-f8cc777448bc",
   "metadata": {},
   "outputs": [],
   "source": [
    "from sklearn.model_selection import StratifiedShuffleSplit\n",
    "\n",
    "split_train = StratifiedShuffleSplit(n_splits=1, test_size=0.3, random_state=42)\n",
    "for train_index, leftover_index in split_train.split(data, data[data.columns[-1]]):\n",
    "    train_set = data.loc[train_index]\n",
    "    leftover_set = data.loc[leftover_index]\n",
    "\n",
    "leftover_set = leftover_set.reset_index(drop=True)\n",
    "    \n",
    "split_val = StratifiedShuffleSplit(n_splits=1, test_size=0.6667, random_state=26)\n",
    "for val_index, test_index in split_val.split(leftover_set, leftover_set[leftover_set.columns[-1]]):\n",
    "    val_set = leftover_set.loc[val_index]\n",
    "    test_set = leftover_set.loc[test_index]\n",
    "    \n",
    "\n",
    "train_set = train_set.reset_index(drop=True)\n",
    "test_set = test_set.reset_index(drop=True)\n",
    "val_set = val_set.reset_index(drop=True)"
   ]
  },
  {
   "cell_type": "code",
   "execution_count": 63,
   "id": "8f3a0e92-4560-483b-8e9e-9906762f1d2e",
   "metadata": {},
   "outputs": [
    {
     "name": "stdout",
     "output_type": "stream",
     "text": [
      "Train: 120\n",
      "Test 21\n",
      "Validation 9\n",
      "Total: 150\n",
      "%train: 0.8\n",
      "%test: 0.14\n",
      "%val: 0.06\n"
     ]
    }
   ],
   "source": [
    "print('Train:', len(train_set))\n",
    "print('Test', len(test_set))\n",
    "print('Validation', len(val_set))\n",
    "len_total = len(train_set) + len(test_set) + len(val_set)\n",
    "print('Total:', len_total)\n",
    "print('%train:', len(train_set)/len_total)\n",
    "print('%test:', len(test_set)/len_total)\n",
    "print('%val:', len(val_set)/len_total)"
   ]
  },
  {
   "cell_type": "markdown",
   "id": "72bc4819-2878-4d82-a3d6-4dd31dc16168",
   "metadata": {},
   "source": [
    "#### 3. Verify stratification of the labels"
   ]
  },
  {
   "cell_type": "code",
   "execution_count": 64,
   "id": "ccc2075a-07ff-49e6-a823-e99a26bb728a",
   "metadata": {},
   "outputs": [
    {
     "name": "stdout",
     "output_type": "stream",
     "text": [
      "class\n",
      "0    0.333333\n",
      "1    0.333333\n",
      "2    0.333333\n",
      "dtype: float64 \n",
      "\n",
      "class\n",
      "0    0.333333\n",
      "1    0.333333\n",
      "2    0.333333\n",
      "dtype: float64 \n",
      "\n",
      "class\n",
      "0    0.333333\n",
      "1    0.333333\n",
      "2    0.333333\n",
      "dtype: float64 \n",
      "\n"
     ]
    }
   ],
   "source": [
    "print_percentils(train_set)\n",
    "print_percentils(test_set)\n",
    "print_percentils(val_set)"
   ]
  },
  {
   "cell_type": "markdown",
   "id": "66801408-1c89-405e-8645-d0c21f55b2d6",
   "metadata": {},
   "source": [
    "#### 4. Write fixed test, validation and train (100%) sets to file"
   ]
  },
  {
   "cell_type": "code",
   "execution_count": 65,
   "id": "a4866e41-9459-418c-8ba9-1cc7c84ab1ad",
   "metadata": {},
   "outputs": [],
   "source": [
    "D = list(map(list, test_set.itertuples(index=False)))\n",
    "\n",
    "test_location = '../datasets/' + repository + '/regular/' + repository + '_' + 'test.csv'\n",
    "with open(test_location, \"w\") as f:\n",
    "    f.write(','.join(data.columns.tolist()) + '\\n')\n",
    "    for value in D:\n",
    "        a = ','.join([str(i if type(i) == str else round(i,2)).strip() for i in value[0:]]) + '\\n'\n",
    "        f.write(a)"
   ]
  },
  {
   "cell_type": "code",
   "execution_count": 66,
   "id": "b44d4244-dc5e-4298-ac2e-b69130a4ad8b",
   "metadata": {},
   "outputs": [],
   "source": [
    "# from random import randrange\n",
    "# idx = randrange(len(val_set))\n",
    "# print(idx)\n",
    "\n",
    "# val_set = pd.concat([val_set.iloc[:idx], row_val, val_set.iloc[idx:]]).reset_index(drop=True)"
   ]
  },
  {
   "cell_type": "code",
   "execution_count": 67,
   "id": "8378ba23-8a92-4d6c-9334-09e67429973b",
   "metadata": {},
   "outputs": [],
   "source": [
    "D = list(map(list, val_set.itertuples(index=False)))\n",
    "\n",
    "val_location = '../datasets/' + repository + '/regular/' + repository + '_' + 'val.csv'\n",
    "with open(val_location, \"w\") as f:\n",
    "    f.write(','.join(data.columns.tolist()) + '\\n')\n",
    "    for value in D:\n",
    "        a = ','.join([str(i if type(i) == str else round(i,2)).strip() for i in value[0:]]) + '\\n'\n",
    "        f.write(a)"
   ]
  },
  {
   "cell_type": "code",
   "execution_count": 68,
   "id": "a8809a80-7bc7-424d-818d-471f23d1cee7",
   "metadata": {},
   "outputs": [],
   "source": [
    "# idx = randrange(len(train_set))\n",
    "# print(idx)\n",
    "\n",
    "# train_set = pd.concat([train_set.iloc[:idx], row_train, train_set.iloc[idx:]]).reset_index(drop=True)"
   ]
  },
  {
   "cell_type": "code",
   "execution_count": 69,
   "id": "bcecc35a-2194-486b-92c8-3471769ec521",
   "metadata": {},
   "outputs": [],
   "source": [
    "D = list(map(list, train_set.itertuples(index=False)))\n",
    "\n",
    "train_location = '../datasets/' + repository + '/regular/' + repository + '_' + 'train_perc100.csv'\n",
    "with open(train_location, \"w\") as f:\n",
    "    f.write(','.join(data.columns.tolist()) + '\\n')\n",
    "    for value in D:\n",
    "        a = ','.join([str(i if type(i) == str else round(i,2)).strip() for i in value[0:]]) + '\\n'\n",
    "        f.write(a)"
   ]
  },
  {
   "cell_type": "markdown",
   "id": "4ca09ce0-d646-4538-a1cd-f5d448a2377c",
   "metadata": {},
   "source": [
    "#### 5. Subsample training set to 1%, 10%"
   ]
  },
  {
   "cell_type": "code",
   "execution_count": 61,
   "id": "4b4e509c-bce2-4d31-844b-00ed08e08ff2",
   "metadata": {},
   "outputs": [
    {
     "name": "stdout",
     "output_type": "stream",
     "text": [
      "0.0\n"
     ]
    }
   ],
   "source": [
    "perc = 10\n",
    "test_param = 1 - perc*0.01\n",
    "print(test_param)"
   ]
  },
  {
   "cell_type": "code",
   "execution_count": 53,
   "id": "43dc67a2-8f41-42fb-b921-2726101aea21",
   "metadata": {},
   "outputs": [],
   "source": [
    "# train_set = train_set[train_set['nursery'] != 'recommend'].reset_index(drop=True)"
   ]
  },
  {
   "cell_type": "code",
   "execution_count": 50,
   "id": "4ae3d502-faba-4009-81fc-7860dd7f19a7",
   "metadata": {},
   "outputs": [],
   "source": [
    "split_subtrain = StratifiedShuffleSplit(n_splits=1, test_size=test_param, random_state=42)\n",
    "for subtrain_index, _index in split_subtrain.split(train_set, train_set[train_set.columns[-1]]):\n",
    "    df_subtrain = train_set.loc[subtrain_index]\n",
    "\n",
    "df_subtrain = df_subtrain.reset_index(drop=True)"
   ]
  },
  {
   "cell_type": "code",
   "execution_count": 51,
   "id": "8bd87b65-166c-4b01-8d31-61e9dc8737de",
   "metadata": {},
   "outputs": [],
   "source": [
    "# idx = randrange(len(df_subtrain))\n",
    "# print(idx)\n",
    "\n",
    "# df_subtrain = pd.concat([df_subtrain.iloc[:idx], row_train, df_subtrain.iloc[idx:]]).reset_index(drop=True)"
   ]
  },
  {
   "cell_type": "markdown",
   "id": "b5a0c909-147e-41e3-ab67-cc58f361fbf4",
   "metadata": {},
   "source": [
    "Veryfy stratification of the labels"
   ]
  },
  {
   "cell_type": "code",
   "execution_count": 29,
   "id": "e5168655-f84b-4892-843a-00f8a6d2e36f",
   "metadata": {},
   "outputs": [
    {
     "name": "stdout",
     "output_type": "stream",
     "text": [
      "class\n",
      "0    0.333333\n",
      "1    0.333333\n",
      "2    0.333333\n",
      "dtype: float64 \n",
      "\n"
     ]
    }
   ],
   "source": [
    "print_percentils(df_subtrain)"
   ]
  },
  {
   "cell_type": "markdown",
   "id": "49f2ebda-bf24-4e87-b67f-fb35aaa74078",
   "metadata": {},
   "source": [
    "#### 6. Write training partitions to file"
   ]
  },
  {
   "cell_type": "code",
   "execution_count": 31,
   "id": "a276e4d1-4ba5-4807-b271-0f17db56a88a",
   "metadata": {},
   "outputs": [],
   "source": [
    "D = list(map(list, df_subtrain.itertuples(index=False)))\n",
    "\n",
    "train_location = '../datasets/' + repository + '/regular/' + repository + '_' + 'train' + '_perc' + str(perc) + '.csv'\n",
    "with open(train_location, \"w\") as f:\n",
    "    f.write(','.join(data.columns.tolist()) + '\\n')\n",
    "    for value in D:\n",
    "        a = ','.join([str(i if type(i) == str else round(i,2)).strip() for i in value[0:]]) + '\\n'\n",
    "        f.write(a)"
   ]
  },
  {
   "cell_type": "code",
   "execution_count": null,
   "id": "5dc65e4e-0ec2-42f4-8d24-4581034973ad",
   "metadata": {},
   "outputs": [],
   "source": []
  }
 ],
 "metadata": {
  "kernelspec": {
   "display_name": "Deep Learning",
   "language": "python",
   "name": "dl"
  },
  "language_info": {
   "codemirror_mode": {
    "name": "ipython",
    "version": 3
   },
   "file_extension": ".py",
   "mimetype": "text/x-python",
   "name": "python",
   "nbconvert_exporter": "python",
   "pygments_lexer": "ipython3",
   "version": "3.6.13"
  }
 },
 "nbformat": 4,
 "nbformat_minor": 5
}
