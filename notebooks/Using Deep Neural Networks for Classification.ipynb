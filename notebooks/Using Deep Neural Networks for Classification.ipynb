{
 "cells": [
  {
   "cell_type": "code",
   "execution_count": 1,
   "id": "172fee13-46c3-4a21-862f-485b14a2d684",
   "metadata": {},
   "outputs": [],
   "source": [
    "from sklearn.model_selection import train_test_split\n",
    "from sklearn.metrics import confusion_matrix\n",
    "import matplotlib.pyplot as plt\n",
    "import seaborn as sn\n",
    "import pandas as pd\n",
    "import numpy as np"
   ]
  },
  {
   "cell_type": "markdown",
   "id": "e7fe394d-3b2d-4dfe-8e83-595a2f3f94c0",
   "metadata": {},
   "source": [
    "#### 1. Load datasets"
   ]
  },
  {
   "cell_type": "code",
   "execution_count": 87,
   "id": "d1871ef7-a0c3-4498-b317-c27af227285e",
   "metadata": {},
   "outputs": [],
   "source": [
    "# dataset_name = 'iris'\n",
    "# perc = 100\n",
    "\n",
    "# df_train = pd.read_csv(f'../datasets/{dataset_name}/regular/{dataset_name}_train_perc{perc}.csv')\n",
    "# df_test = pd.read_csv('../datasets/' + dataset_name + '/regular/' + dataset_name + '_test.csv')\n",
    "# df_val = pd.read_csv('../datasets/' + dataset_name + '/regular/' + dataset_name + '_val.csv')"
   ]
  },
  {
   "cell_type": "code",
   "execution_count": 119,
   "id": "6ab45e18-e921-458a-bdad-04be18745392",
   "metadata": {},
   "outputs": [],
   "source": [
    "dataset_name = 'pulsar'\n",
    "perc = 1\n",
    "\n",
    "df_train = pd.read_csv(f'../datasets/{dataset_name}/extreme/{perc}/{dataset_name}_train_perc{perc}.csv')\n",
    "df_test = pd.read_csv(f'../datasets/{dataset_name}/extreme/{perc}/{dataset_name}_test_perc{perc}.csv')"
   ]
  },
  {
   "cell_type": "code",
   "execution_count": 120,
   "id": "b493f2f3-4662-4834-90e0-62cd447fd362",
   "metadata": {},
   "outputs": [
    {
     "name": "stdout",
     "output_type": "stream",
     "text": [
      "2\n"
     ]
    },
    {
     "data": {
      "text/plain": [
       "2"
      ]
     },
     "execution_count": 120,
     "metadata": {},
     "output_type": "execute_result"
    }
   ],
   "source": [
    "n_classes = len(set(df_train[df_train.columns[-1]]))\n",
    "print(n_classes)\n",
    "len(set(df_test[df_test.columns[-1]]))"
   ]
  },
  {
   "cell_type": "code",
   "execution_count": 121,
   "id": "f3032d69-56ea-42ee-9282-588942e181cc",
   "metadata": {},
   "outputs": [],
   "source": [
    "if any(isinstance(df_train[x][0], str) for x in df_train.columns):\n",
    "    ### ----- IF DATA IS CATEGORICAL ----- ##\n",
    "    print(\"Categorical data - let's one hot encode the features!\\n\")\n",
    "    print(\"Number of columns before:\", len(df_train.columns))\n",
    "    df_train['set type'] = 'train'\n",
    "    df_test['set type'] = 'test'\n",
    "#     df_val['set type'] = 'val'\n",
    "\n",
    "#     total_df = pd.concat([df_train, df_test, df_val])\n",
    "    total_df = pd.concat([df_train, df_test])\n",
    "    cols = list(total_df.columns)\n",
    "    total_df = pd.get_dummies(total_df, columns=total_df.columns[:-2])\n",
    "    \n",
    "    cols = list(total_df.columns)\n",
    "    cols = cols[1:] + cols[:1]\n",
    "    total_df = total_df[cols]\n",
    "    \n",
    "    df_train = total_df[total_df['set type'] == 'train']\n",
    "    df_test = total_df[total_df['set type'] == 'test']\n",
    "#     df_val = total_df[total_df['set type'] == 'val']\n",
    "\n",
    "    del df_train['set type']\n",
    "    del df_test['set type']\n",
    "#     del df_val['set type']\n",
    "    \n",
    "    print(\"Number of columns after one hot encoding:\", len(df_train.columns))"
   ]
  },
  {
   "cell_type": "code",
   "execution_count": 122,
   "id": "63e065b6-8336-44bd-b405-a994f1ffb57e",
   "metadata": {},
   "outputs": [],
   "source": [
    "target_name = df_train.columns[-1]\n",
    "X_train, y_train = df_train.drop([target_name], axis='columns'), df_train[target_name]\n",
    "X_test, y_test = df_test.drop([target_name], axis='columns'), df_test[target_name]\n",
    "# X_val, y_val = df_val.drop([target_name], axis='columns'), df_val[target_name]"
   ]
  },
  {
   "cell_type": "code",
   "execution_count": 123,
   "id": "0a309454-7782-4633-bed3-4d9928cfb2a2",
   "metadata": {},
   "outputs": [],
   "source": [
    "classes_converter = {}\n",
    "for k, c in enumerate(set(df_train[target_name])):\n",
    "    classes_converter[c] = k"
   ]
  },
  {
   "cell_type": "code",
   "execution_count": 124,
   "id": "9205a681-454a-46b8-b935-ae961295ba4a",
   "metadata": {},
   "outputs": [],
   "source": [
    "y_train = y_train.apply(lambda x: classes_converter[x])\n",
    "y_test = y_test.apply(lambda x: classes_converter[x])"
   ]
  },
  {
   "cell_type": "markdown",
   "id": "b0606bee-3020-483b-bead-8ff93c618956",
   "metadata": {},
   "source": [
    "#### 2. Train data using the randomforest classifier"
   ]
  },
  {
   "cell_type": "code",
   "execution_count": 125,
   "id": "b2097df5-27e9-4b96-ab04-6c7d179ac385",
   "metadata": {},
   "outputs": [],
   "source": [
    "# Neural network module\n",
    "from keras.utils import np_utils\n",
    "from keras.models import Sequential \n",
    "from keras.optimizers import Adam\n",
    "from keras.layers import Dense,Activation,Dropout \n",
    "from keras.layers.normalization import BatchNormalization "
   ]
  },
  {
   "cell_type": "code",
   "execution_count": 126,
   "id": "a1225ac2-1f37-4f9e-9c96-c6488a3d4a02",
   "metadata": {},
   "outputs": [
    {
     "name": "stdout",
     "output_type": "stream",
     "text": [
      "Shape of y_train (92, 2)\n",
      "Shape of y_test (9181, 2)\n"
     ]
    }
   ],
   "source": [
    "# Change the label to one hot vector\n",
    "y_train = np_utils.to_categorical(y_train, num_classes=n_classes)\n",
    "y_test = np_utils.to_categorical(y_test, num_classes=n_classes)\n",
    "\n",
    "\n",
    "print(\"Shape of y_train\", y_train.shape)\n",
    "print(\"Shape of y_test\", y_test.shape)"
   ]
  },
  {
   "cell_type": "code",
   "execution_count": 127,
   "id": "8a190d34-76a6-4f82-bb33-8e0becfe14c8",
   "metadata": {},
   "outputs": [],
   "source": [
    "n_cols = X_train[0:1].shape[1]"
   ]
  },
  {
   "cell_type": "code",
   "execution_count": 131,
   "id": "e661a099-6017-43c0-a98f-1e09989b9240",
   "metadata": {},
   "outputs": [
    {
     "name": "stdout",
     "output_type": "stream",
     "text": [
      "Model: \"sequential_19\"\n",
      "_________________________________________________________________\n",
      "Layer (type)                 Output Shape              Param #   \n",
      "=================================================================\n",
      "dense_41 (Dense)             (None, 1000)              9000      \n",
      "_________________________________________________________________\n",
      "dense_42 (Dense)             (None, 2)                 2002      \n",
      "=================================================================\n",
      "Total params: 11,002\n",
      "Trainable params: 11,002\n",
      "Non-trainable params: 0\n",
      "_________________________________________________________________\n"
     ]
    }
   ],
   "source": [
    "model=Sequential()\n",
    "model.add(Dense(1000, input_dim=n_cols, activation='relu'))\n",
    "# model.add(Dense(100, input_dim=n_cols, activation='relu'))\n",
    "# model.add(Dropout(0.2))\n",
    "model.add(Dense(n_classes,activation='softmax'))\n",
    "opt = Adam(lr=0.001)\n",
    "model.compile(loss='binary_crossentropy', optimizer=opt, metrics=['accuracy'])\n",
    "model.summary()"
   ]
  },
  {
   "cell_type": "code",
   "execution_count": 132,
   "id": "899ca564-35ca-4fed-922c-ca27c87c15e4",
   "metadata": {},
   "outputs": [
    {
     "name": "stdout",
     "output_type": "stream",
     "text": [
      "Epoch 1/50\n",
      "3/3 [==============================] - 1s 244ms/step - loss: 3.2610 - accuracy: 0.6630 - val_loss: 0.7473 - val_accuracy: 0.9083\n",
      "Epoch 2/50\n",
      "3/3 [==============================] - 1s 203ms/step - loss: 0.6800 - accuracy: 0.9130 - val_loss: 0.7026 - val_accuracy: 0.9171\n",
      "Epoch 3/50\n",
      "3/3 [==============================] - 1s 192ms/step - loss: 0.4922 - accuracy: 0.9457 - val_loss: 0.5091 - val_accuracy: 0.9476\n",
      "Epoch 4/50\n",
      "3/3 [==============================] - 1s 197ms/step - loss: 0.3221 - accuracy: 0.9565 - val_loss: 0.5387 - val_accuracy: 0.9378\n",
      "Epoch 5/50\n",
      "3/3 [==============================] - 1s 205ms/step - loss: 0.2425 - accuracy: 0.9674 - val_loss: 0.7294 - val_accuracy: 0.9288\n",
      "Epoch 6/50\n",
      "3/3 [==============================] - 1s 219ms/step - loss: 0.3120 - accuracy: 0.9674 - val_loss: 0.8441 - val_accuracy: 0.9253\n",
      "Epoch 7/50\n",
      "3/3 [==============================] - 1s 223ms/step - loss: 0.3050 - accuracy: 0.9565 - val_loss: 0.8508 - val_accuracy: 0.9243\n",
      "Epoch 8/50\n",
      "3/3 [==============================] - 1s 204ms/step - loss: 0.2139 - accuracy: 0.9674 - val_loss: 0.7416 - val_accuracy: 0.9279\n",
      "Epoch 9/50\n",
      "3/3 [==============================] - 1s 204ms/step - loss: 0.1214 - accuracy: 0.9783 - val_loss: 0.5968 - val_accuracy: 0.9343\n",
      "Epoch 10/50\n",
      "3/3 [==============================] - 1s 195ms/step - loss: 0.1180 - accuracy: 0.9783 - val_loss: 0.5074 - val_accuracy: 0.9414\n",
      "Epoch 11/50\n",
      "3/3 [==============================] - 1s 206ms/step - loss: 0.1117 - accuracy: 0.9783 - val_loss: 0.4964 - val_accuracy: 0.9421\n",
      "Epoch 12/50\n",
      "3/3 [==============================] - 1s 203ms/step - loss: 0.0746 - accuracy: 0.9891 - val_loss: 0.5027 - val_accuracy: 0.9401\n",
      "Epoch 13/50\n",
      "3/3 [==============================] - 1s 190ms/step - loss: 0.0667 - accuracy: 0.9891 - val_loss: 0.5563 - val_accuracy: 0.9357\n",
      "Epoch 14/50\n",
      "3/3 [==============================] - 1s 209ms/step - loss: 0.0330 - accuracy: 0.9891 - val_loss: 0.6109 - val_accuracy: 0.9311\n",
      "Epoch 15/50\n",
      "3/3 [==============================] - 1s 214ms/step - loss: 0.0353 - accuracy: 0.9783 - val_loss: 0.6487 - val_accuracy: 0.9279\n",
      "Epoch 16/50\n",
      "3/3 [==============================] - 1s 210ms/step - loss: 0.0251 - accuracy: 0.9783 - val_loss: 0.5447 - val_accuracy: 0.9354\n",
      "Epoch 17/50\n",
      "3/3 [==============================] - 1s 211ms/step - loss: 0.0107 - accuracy: 0.9891 - val_loss: 0.4858 - val_accuracy: 0.9394\n",
      "Epoch 18/50\n",
      "3/3 [==============================] - 1s 220ms/step - loss: 0.0078 - accuracy: 1.0000 - val_loss: 0.4590 - val_accuracy: 0.9429\n",
      "Epoch 19/50\n",
      "3/3 [==============================] - 1s 214ms/step - loss: 0.0047 - accuracy: 1.0000 - val_loss: 0.4482 - val_accuracy: 0.9435\n",
      "Epoch 20/50\n",
      "3/3 [==============================] - 1s 203ms/step - loss: 0.0025 - accuracy: 1.0000 - val_loss: 0.4404 - val_accuracy: 0.9445\n",
      "Epoch 21/50\n",
      "3/3 [==============================] - 1s 206ms/step - loss: 0.0019 - accuracy: 1.0000 - val_loss: 0.4356 - val_accuracy: 0.9452\n",
      "Epoch 22/50\n",
      "3/3 [==============================] - 1s 220ms/step - loss: 0.0014 - accuracy: 1.0000 - val_loss: 0.4302 - val_accuracy: 0.9459\n",
      "Epoch 23/50\n",
      "3/3 [==============================] - 1s 211ms/step - loss: 0.0012 - accuracy: 1.0000 - val_loss: 0.4225 - val_accuracy: 0.9464\n",
      "Epoch 24/50\n",
      "3/3 [==============================] - 1s 207ms/step - loss: 0.0010 - accuracy: 1.0000 - val_loss: 0.4169 - val_accuracy: 0.9476\n",
      "Epoch 25/50\n",
      "3/3 [==============================] - 1s 215ms/step - loss: 9.1559e-04 - accuracy: 1.0000 - val_loss: 0.4099 - val_accuracy: 0.9477\n",
      "Epoch 26/50\n",
      "3/3 [==============================] - 1s 199ms/step - loss: 8.4416e-04 - accuracy: 1.0000 - val_loss: 0.4033 - val_accuracy: 0.9485\n",
      "Epoch 27/50\n",
      "3/3 [==============================] - 1s 210ms/step - loss: 7.8094e-04 - accuracy: 1.0000 - val_loss: 0.3966 - val_accuracy: 0.9492\n",
      "Epoch 28/50\n",
      "3/3 [==============================] - 1s 211ms/step - loss: 7.1026e-04 - accuracy: 1.0000 - val_loss: 0.3906 - val_accuracy: 0.9499\n",
      "Epoch 29/50\n",
      "3/3 [==============================] - 1s 215ms/step - loss: 6.8726e-04 - accuracy: 1.0000 - val_loss: 0.3838 - val_accuracy: 0.9503\n",
      "Epoch 30/50\n",
      "3/3 [==============================] - 1s 205ms/step - loss: 6.3757e-04 - accuracy: 1.0000 - val_loss: 0.3793 - val_accuracy: 0.9507\n",
      "Epoch 31/50\n",
      "3/3 [==============================] - 1s 178ms/step - loss: 6.0618e-04 - accuracy: 1.0000 - val_loss: 0.3761 - val_accuracy: 0.9510\n",
      "Epoch 32/50\n",
      "3/3 [==============================] - 1s 200ms/step - loss: 5.9414e-04 - accuracy: 1.0000 - val_loss: 0.3723 - val_accuracy: 0.9513\n",
      "Epoch 33/50\n",
      "3/3 [==============================] - 1s 210ms/step - loss: 5.6542e-04 - accuracy: 1.0000 - val_loss: 0.3705 - val_accuracy: 0.9513\n",
      "Epoch 34/50\n",
      "3/3 [==============================] - 1s 184ms/step - loss: 5.5189e-04 - accuracy: 1.0000 - val_loss: 0.3683 - val_accuracy: 0.9519\n",
      "Epoch 35/50\n",
      "3/3 [==============================] - 1s 205ms/step - loss: 5.2948e-04 - accuracy: 1.0000 - val_loss: 0.3673 - val_accuracy: 0.9519\n",
      "Epoch 36/50\n",
      "3/3 [==============================] - 1s 201ms/step - loss: 5.1770e-04 - accuracy: 1.0000 - val_loss: 0.3671 - val_accuracy: 0.9520\n",
      "Epoch 37/50\n",
      "3/3 [==============================] - 1s 214ms/step - loss: 5.0221e-04 - accuracy: 1.0000 - val_loss: 0.3668 - val_accuracy: 0.9520\n",
      "Epoch 38/50\n",
      "3/3 [==============================] - 1s 200ms/step - loss: 4.9320e-04 - accuracy: 1.0000 - val_loss: 0.3663 - val_accuracy: 0.9521\n",
      "Epoch 39/50\n",
      "3/3 [==============================] - 1s 209ms/step - loss: 4.8392e-04 - accuracy: 1.0000 - val_loss: 0.3663 - val_accuracy: 0.9519\n",
      "Epoch 40/50\n",
      "3/3 [==============================] - 1s 194ms/step - loss: 4.6752e-04 - accuracy: 1.0000 - val_loss: 0.3647 - val_accuracy: 0.9522\n",
      "Epoch 41/50\n",
      "3/3 [==============================] - 1s 192ms/step - loss: 4.5203e-04 - accuracy: 1.0000 - val_loss: 0.3639 - val_accuracy: 0.9524\n",
      "Epoch 42/50\n",
      "3/3 [==============================] - 1s 197ms/step - loss: 4.4476e-04 - accuracy: 1.0000 - val_loss: 0.3628 - val_accuracy: 0.9525\n",
      "Epoch 43/50\n",
      "3/3 [==============================] - 1s 204ms/step - loss: 4.3784e-04 - accuracy: 1.0000 - val_loss: 0.3624 - val_accuracy: 0.9526\n",
      "Epoch 44/50\n",
      "3/3 [==============================] - 1s 208ms/step - loss: 4.2507e-04 - accuracy: 1.0000 - val_loss: 0.3618 - val_accuracy: 0.9526\n",
      "Epoch 45/50\n",
      "3/3 [==============================] - 1s 210ms/step - loss: 4.1947e-04 - accuracy: 1.0000 - val_loss: 0.3613 - val_accuracy: 0.9527\n",
      "Epoch 46/50\n",
      "3/3 [==============================] - 1s 215ms/step - loss: 4.0947e-04 - accuracy: 1.0000 - val_loss: 0.3610 - val_accuracy: 0.9528\n",
      "Epoch 47/50\n",
      "3/3 [==============================] - 1s 219ms/step - loss: 4.0161e-04 - accuracy: 1.0000 - val_loss: 0.3597 - val_accuracy: 0.9531\n",
      "Epoch 48/50\n",
      "3/3 [==============================] - 1s 213ms/step - loss: 3.9501e-04 - accuracy: 1.0000 - val_loss: 0.3591 - val_accuracy: 0.9532\n",
      "Epoch 49/50\n",
      "3/3 [==============================] - 1s 199ms/step - loss: 3.8494e-04 - accuracy: 1.0000 - val_loss: 0.3581 - val_accuracy: 0.9533\n",
      "Epoch 50/50\n",
      "3/3 [==============================] - 1s 198ms/step - loss: 3.7628e-04 - accuracy: 1.0000 - val_loss: 0.3570 - val_accuracy: 0.9538\n"
     ]
    },
    {
     "data": {
      "text/plain": [
       "<tensorflow.python.keras.callbacks.History at 0x7fbb803104e0>"
      ]
     },
     "execution_count": 132,
     "metadata": {},
     "output_type": "execute_result"
    }
   ],
   "source": [
    "model.fit(X_train, y_train, validation_data = (X_test,y_test), \n",
    "          batch_size=32, \n",
    "          epochs=50, \n",
    "          verbose=1)"
   ]
  },
  {
   "cell_type": "code",
   "execution_count": 133,
   "id": "51101209-3283-4d55-a3a5-1bc2e8b3b838",
   "metadata": {},
   "outputs": [
    {
     "name": "stdout",
     "output_type": "stream",
     "text": [
      "Accuracy of the dataset 95.38176669208147\n"
     ]
    }
   ],
   "source": [
    "y_true = np.argmax(y_test, axis=1)\n",
    "prediction = model.predict(X_test)\n",
    "y_pred = np.argmax(prediction, axis=1)\n",
    "\n",
    "accuracy = np.sum(y_true == y_pred)/len(prediction) * 100 \n",
    "print(\"Accuracy of the dataset\", accuracy)"
   ]
  },
  {
   "cell_type": "markdown",
   "id": "a53ae600-8e60-4a50-8a75-b6bfce1c72e4",
   "metadata": {},
   "source": [
    "On validation set"
   ]
  },
  {
   "cell_type": "code",
   "execution_count": 86,
   "id": "3bac2906-cd71-4a36-a48c-b7416487a4c3",
   "metadata": {},
   "outputs": [],
   "source": [
    "# model.score(X_val, y_val)"
   ]
  },
  {
   "cell_type": "markdown",
   "id": "932a67a6-0351-4be7-99d6-5d98e72594bc",
   "metadata": {},
   "source": [
    "#### 3. Evaluate test set with confusion matrix"
   ]
  },
  {
   "cell_type": "code",
   "execution_count": 16,
   "id": "ec486eb0-beb2-485c-a8ad-129d8c9fd759",
   "metadata": {},
   "outputs": [
    {
     "data": {
      "text/plain": [
       "(3754,)"
      ]
     },
     "execution_count": 16,
     "metadata": {},
     "output_type": "execute_result"
    }
   ],
   "source": [
    "y_true.shape"
   ]
  },
  {
   "cell_type": "code",
   "execution_count": 17,
   "id": "d232a074-ad77-44d3-8f09-d19e2993087c",
   "metadata": {},
   "outputs": [],
   "source": [
    "# y_pred = model.predict(X_test)"
   ]
  },
  {
   "cell_type": "code",
   "execution_count": 18,
   "id": "15236524-7af6-457d-8163-3109269cc9d6",
   "metadata": {},
   "outputs": [],
   "source": [
    "# cm = confusion_matrix(y_test, y_pred)\n",
    "# cm"
   ]
  },
  {
   "cell_type": "markdown",
   "id": "1c0e9024-94f5-4d12-93af-1d8ef7b7048d",
   "metadata": {},
   "source": [
    "#### 4. Plot results"
   ]
  },
  {
   "cell_type": "code",
   "execution_count": 19,
   "id": "12f29639-79f7-426b-b8fb-ab97897b3961",
   "metadata": {},
   "outputs": [
    {
     "ename": "NameError",
     "evalue": "name 'cm' is not defined",
     "output_type": "error",
     "traceback": [
      "\u001b[0;31m---------------------------------------------------------------------------\u001b[0m",
      "\u001b[0;31mNameError\u001b[0m                                 Traceback (most recent call last)",
      "\u001b[0;32m<ipython-input-19-5ca0d238ab56>\u001b[0m in \u001b[0;36m<module>\u001b[0;34m\u001b[0m\n\u001b[0;32m----> 1\u001b[0;31m \u001b[0msn\u001b[0m\u001b[0;34m.\u001b[0m\u001b[0mheatmap\u001b[0m\u001b[0;34m(\u001b[0m\u001b[0mcm\u001b[0m\u001b[0;34m,\u001b[0m \u001b[0mannot\u001b[0m\u001b[0;34m=\u001b[0m\u001b[0;32mTrue\u001b[0m\u001b[0;34m)\u001b[0m\u001b[0;34m\u001b[0m\u001b[0;34m\u001b[0m\u001b[0m\n\u001b[0m\u001b[1;32m      2\u001b[0m \u001b[0mplt\u001b[0m\u001b[0;34m.\u001b[0m\u001b[0mxlabel\u001b[0m\u001b[0;34m(\u001b[0m\u001b[0;34m'pred'\u001b[0m\u001b[0;34m)\u001b[0m\u001b[0;34m\u001b[0m\u001b[0;34m\u001b[0m\u001b[0m\n\u001b[1;32m      3\u001b[0m \u001b[0mplt\u001b[0m\u001b[0;34m.\u001b[0m\u001b[0mylabel\u001b[0m\u001b[0;34m(\u001b[0m\u001b[0;34m'true'\u001b[0m\u001b[0;34m)\u001b[0m\u001b[0;34m\u001b[0m\u001b[0;34m\u001b[0m\u001b[0m\n",
      "\u001b[0;31mNameError\u001b[0m: name 'cm' is not defined"
     ]
    }
   ],
   "source": [
    "sn.heatmap(cm, annot=True)\n",
    "plt.xlabel('pred')\n",
    "plt.ylabel('true')"
   ]
  },
  {
   "cell_type": "code",
   "execution_count": null,
   "id": "4b1a8eb6-2e3f-4e35-9812-d88356282d2b",
   "metadata": {},
   "outputs": [],
   "source": []
  },
  {
   "cell_type": "code",
   "execution_count": null,
   "id": "713f3ec9-1a26-41a1-94a6-af513db27a75",
   "metadata": {},
   "outputs": [],
   "source": []
  },
  {
   "cell_type": "code",
   "execution_count": null,
   "id": "65ac9d3d-f165-4490-81ba-c5cbe8cfc254",
   "metadata": {},
   "outputs": [],
   "source": []
  }
 ],
 "metadata": {
  "kernelspec": {
   "display_name": "Deep Learning",
   "language": "python",
   "name": "dl"
  },
  "language_info": {
   "codemirror_mode": {
    "name": "ipython",
    "version": 3
   },
   "file_extension": ".py",
   "mimetype": "text/x-python",
   "name": "python",
   "nbconvert_exporter": "python",
   "pygments_lexer": "ipython3",
   "version": "3.6.13"
  }
 },
 "nbformat": 4,
 "nbformat_minor": 5
}
