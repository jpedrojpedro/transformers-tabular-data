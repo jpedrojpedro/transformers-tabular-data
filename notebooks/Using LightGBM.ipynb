{
 "cells": [
  {
   "cell_type": "code",
   "execution_count": 1,
   "id": "172fee13-46c3-4a21-862f-485b14a2d684",
   "metadata": {},
   "outputs": [],
   "source": [
    "from sklearn.utils.multiclass import unique_labels\n",
    "from sklearn.metrics import confusion_matrix\n",
    "from sklearn.metrics import accuracy_score\n",
    "from sklearn import preprocessing\n",
    "import matplotlib.pyplot as plt\n",
    "import lightgbm as lgb\n",
    "import seaborn as sn\n",
    "import pandas as pd\n",
    "import numpy as np"
   ]
  },
  {
   "cell_type": "markdown",
   "id": "e7fe394d-3b2d-4dfe-8e83-595a2f3f94c0",
   "metadata": {},
   "source": [
    "#### 1. Load datasets"
   ]
  },
  {
   "cell_type": "code",
   "execution_count": 2,
   "id": "d1871ef7-a0c3-4498-b317-c27af227285e",
   "metadata": {},
   "outputs": [],
   "source": [
    "# dataset_name = 'abalone'\n",
    "# perc = 1\n",
    "\n",
    "# df_train = pd.read_csv(f'../datasets/{dataset_name}/regular/{dataset_name}_train_perc{perc}.csv')\n",
    "# df_test = pd.read_csv(f'../datasets/{dataset_name}/regular/{dataset_name}_test.csv')\n",
    "# df_val = pd.read_csv(f'../datasets/{dataset_name}/regular/{dataset_name}_val.csv')\n",
    "\n",
    "# n_classes = len(set(df_train[df_train.columns[-1]]))\n",
    "# print(n_classes)"
   ]
  },
  {
   "cell_type": "code",
   "execution_count": 27,
   "id": "6ab45e18-e921-458a-bdad-04be18745392",
   "metadata": {},
   "outputs": [
    {
     "name": "stdout",
     "output_type": "stream",
     "text": [
      "23\n"
     ]
    },
    {
     "data": {
      "text/plain": [
       "23"
      ]
     },
     "execution_count": 27,
     "metadata": {},
     "output_type": "execute_result"
    }
   ],
   "source": [
    "dataset_name = 'abalone'\n",
    "perc = 1\n",
    "\n",
    "df_train = pd.read_csv(f'../datasets/{dataset_name}/extreme/{perc}/{dataset_name}_train_perc{perc}.csv')\n",
    "df_test = pd.read_csv(f'../datasets/{dataset_name}/extreme/{perc}/{dataset_name}_test_perc{perc}.csv')\n",
    "\n",
    "n_classes = len(set(df_train[df_train.columns[-1]]))\n",
    "print(n_classes)\n",
    "len(set(df_test[df_test.columns[-1]]))"
   ]
  },
  {
   "cell_type": "code",
   "execution_count": 28,
   "id": "f3032d69-56ea-42ee-9282-588942e181cc",
   "metadata": {},
   "outputs": [],
   "source": [
    "if any(isinstance(df_train[x][0], str) for x in df_train.columns):\n",
    "    ### ----- IF DATA IS CATEGORICAL ----- ##\n",
    "    print(\"Categorical data - let's one hot encode the features!\\n\")\n",
    "    print(\"Number of features before:\", len(df_train.columns))\n",
    "    df_train['set type'] = 'train'\n",
    "    df_test['set type'] = 'test'\n",
    "#     df_val['set type'] = 'val'\n",
    "\n",
    "#     total_df = pd.concat([df_train, df_test, df_val])\n",
    "    total_df = pd.concat([df_train, df_test])\n",
    "\n",
    "    total_df = pd.get_dummies(total_df, columns=total_df.columns[:-2])\n",
    "    \n",
    "    cols = list(total_df.columns)\n",
    "    cols = cols[1:] + cols[:1]\n",
    "    total_df = total_df[cols]\n",
    "    \n",
    "    df_train = total_df[total_df['set type'] == 'train']\n",
    "    df_test = total_df[total_df['set type'] == 'test']\n",
    "#     df_val = total_df[total_df['set type'] == 'val']\n",
    "\n",
    "    del df_train['set type']\n",
    "    del df_test['set type']\n",
    "#     del df_val['set type']\n",
    "    \n",
    "    print(\"Number of features after one hot encoding:\", len(df_train.columns))"
   ]
  },
  {
   "cell_type": "code",
   "execution_count": 29,
   "id": "63e065b6-8336-44bd-b405-a994f1ffb57e",
   "metadata": {},
   "outputs": [],
   "source": [
    "target_name = df_train.columns[-1]\n",
    "X_train, y_train = df_train.drop([target_name], axis='columns'), df_train[target_name]\n",
    "X_test, y_test = df_test.drop([target_name], axis='columns'), df_test[target_name]\n",
    "# X_val, y_val = df_val.drop([target_name], axis='columns'), df_val[target_name]"
   ]
  },
  {
   "cell_type": "code",
   "execution_count": 30,
   "id": "8c076481-81d8-4208-be30-b9eacd67227d",
   "metadata": {},
   "outputs": [],
   "source": [
    "le = preprocessing.LabelEncoder()\n",
    "y_train = le.fit_transform(y_train)\n",
    "y_test = le.fit_transform(y_test)\n",
    "# y_val = le.fit_transform(y_val)"
   ]
  },
  {
   "cell_type": "markdown",
   "id": "b0606bee-3020-483b-bead-8ff93c618956",
   "metadata": {},
   "source": [
    "#### 2. Train data using the randomforest classifier"
   ]
  },
  {
   "cell_type": "code",
   "execution_count": 31,
   "id": "aaf3b51c-6407-4519-9019-7733b03a1b0f",
   "metadata": {},
   "outputs": [],
   "source": [
    "params = {\n",
    "          \"objective\" : \"multiclass\",\n",
    "          \"num_class\" : n_classes,\n",
    "          \"num_leaves\" : 60,\n",
    "          \"max_depth\": -1,\n",
    "          \"learning_rate\" : 0.01,\n",
    "          \"bagging_fraction\" : 0.9,  # subsample\n",
    "          \"feature_fraction\" : 0.9,  # colsample_bytree\n",
    "          \"bagging_freq\" : 5,        # subsample_freq\n",
    "          \"bagging_seed\" : 2018,\n",
    "          \"verbosity\" : -1 }"
   ]
  },
  {
   "cell_type": "markdown",
   "id": "a53ae600-8e60-4a50-8a75-b6bfce1c72e4",
   "metadata": {},
   "source": [
    "On validation set"
   ]
  },
  {
   "cell_type": "code",
   "execution_count": 32,
   "id": "3bac2906-cd71-4a36-a48c-b7416487a4c3",
   "metadata": {},
   "outputs": [
    {
     "name": "stderr",
     "output_type": "stream",
     "text": [
      "/data/lecraizer/envs/venv/lib/python3.6/site-packages/lightgbm/engine.py:181: UserWarning: 'early_stopping_rounds' argument is deprecated and will be removed in a future release of LightGBM. Pass 'early_stopping()' callback via 'callbacks' argument instead.\n",
      "  _log_warning(\"'early_stopping_rounds' argument is deprecated and will be removed in a future release of LightGBM. \"\n",
      "/data/lecraizer/envs/venv/lib/python3.6/site-packages/lightgbm/engine.py:239: UserWarning: 'verbose_eval' argument is deprecated and will be removed in a future release of LightGBM. Pass 'log_evaluation()' callback via 'callbacks' argument instead.\n",
      "  _log_warning(\"'verbose_eval' argument is deprecated and will be removed in a future release of LightGBM. \"\n"
     ]
    },
    {
     "name": "stdout",
     "output_type": "stream",
     "text": [
      "Training until validation scores don't improve for 100 rounds\n",
      "[200]\ttraining's multi_logloss: 1.76649\tvalid_1's multi_logloss: 2.36222\n",
      "Early stopping, best iteration is:\n",
      "[259]\ttraining's multi_logloss: 1.55069\tvalid_1's multi_logloss: 2.34657\n"
     ]
    }
   ],
   "source": [
    "lgtrain, lgval = lgb.Dataset(X_train, y_train), lgb.Dataset(X_test, y_test)\n",
    "lgbmodel = lgb.train(params, lgtrain, 2000, valid_sets=[lgtrain, lgval], early_stopping_rounds=100, verbose_eval=200)"
   ]
  },
  {
   "cell_type": "markdown",
   "id": "932a67a6-0351-4be7-99d6-5d98e72594bc",
   "metadata": {},
   "source": [
    "#### 3. Evaluate test set with confusion matrix"
   ]
  },
  {
   "cell_type": "code",
   "execution_count": 33,
   "id": "15236524-7af6-457d-8163-3109269cc9d6",
   "metadata": {},
   "outputs": [
    {
     "data": {
      "text/plain": [
       "0.22489082969432314"
      ]
     },
     "execution_count": 33,
     "metadata": {},
     "output_type": "execute_result"
    }
   ],
   "source": [
    "y_pred = np.argmax(lgbmodel.predict(X_test),axis=1)\n",
    "y_true = y_test\n",
    "accuracy_score(y_true, y_pred)"
   ]
  },
  {
   "cell_type": "markdown",
   "id": "1c0e9024-94f5-4d12-93af-1d8ef7b7048d",
   "metadata": {},
   "source": [
    "#### 4. Plot results"
   ]
  },
  {
   "cell_type": "code",
   "execution_count": 34,
   "id": "12f29639-79f7-426b-b8fb-ab97897b3961",
   "metadata": {},
   "outputs": [
    {
     "data": {
      "text/plain": [
       "Text(33.0, 0.5, 'true')"
      ]
     },
     "execution_count": 34,
     "metadata": {},
     "output_type": "execute_result"
    },
    {
     "data": {
      "image/png": "[encoded data removed]",
      "text/plain": [
       "<Figure size 432x288 with 2 Axes>"
      ]
     },
     "metadata": {
      "needs_background": "light"
     },
     "output_type": "display_data"
    }
   ],
   "source": [
    "cm = confusion_matrix(y_test, y_pred)\n",
    "\n",
    "sn.heatmap(cm, annot=True)\n",
    "plt.xlabel('pred')\n",
    "plt.ylabel('true')"
   ]
  },
  {
   "cell_type": "code",
   "execution_count": null,
   "id": "713f3ec9-1a26-41a1-94a6-af513db27a75",
   "metadata": {},
   "outputs": [],
   "source": []
  },
  {
   "cell_type": "code",
   "execution_count": null,
   "id": "65ac9d3d-f165-4490-81ba-c5cbe8cfc254",
   "metadata": {},
   "outputs": [],
   "source": []
  },
  {
   "cell_type": "code",
   "execution_count": null,
   "id": "418c0624-14cb-48c9-8337-7c1fea5a4a76",
   "metadata": {},
   "outputs": [],
   "source": []
  },
  {
   "cell_type": "code",
   "execution_count": null,
   "id": "8a44dd2e-88b8-4a77-bde4-16d83b8c17b9",
   "metadata": {},
   "outputs": [],
   "source": []
  },
  {
   "cell_type": "code",
   "execution_count": null,
   "id": "1f62bf1a-ff34-440a-a16e-0471988cc718",
   "metadata": {},
   "outputs": [],
   "source": []
  }
 ],
 "metadata": {
  "kernelspec": {
   "display_name": "Deep Learning",
   "language": "python",
   "name": "dl"
  },
  "language_info": {
   "codemirror_mode": {
    "name": "ipython",
    "version": 3
   },
   "file_extension": ".py",
   "mimetype": "text/x-python",
   "name": "python",
   "nbconvert_exporter": "python",
   "pygments_lexer": "ipython3",
   "version": "3.6.13"
  }
 },
 "nbformat": 4,
 "nbformat_minor": 5
}
