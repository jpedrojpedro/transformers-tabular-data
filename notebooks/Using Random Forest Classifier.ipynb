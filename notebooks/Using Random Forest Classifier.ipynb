{
 "cells": [
  {
   "cell_type": "code",
   "execution_count": 1,
   "id": "172fee13-46c3-4a21-862f-485b14a2d684",
   "metadata": {},
   "outputs": [],
   "source": [
    "from sklearn.model_selection import train_test_split\n",
    "from sklearn.ensemble import RandomForestClassifier\n",
    "from sklearn.metrics import confusion_matrix\n",
    "import matplotlib.pyplot as plt\n",
    "import seaborn as sn\n",
    "import pandas as pd"
   ]
  },
  {
   "cell_type": "markdown",
   "id": "e7fe394d-3b2d-4dfe-8e83-595a2f3f94c0",
   "metadata": {},
   "source": [
    "#### 1. Load datasets"
   ]
  },
  {
   "cell_type": "code",
   "execution_count": 13,
   "id": "d1871ef7-a0c3-4498-b317-c27af227285e",
   "metadata": {},
   "outputs": [],
   "source": [
    "# dataset_name = 'iris'\n",
    "# perc = 100\n",
    "\n",
    "# df_train = pd.read_csv(f'../datasets/{dataset_name}/regular/{dataset_name}_train_perc{perc}.csv')\n",
    "# df_test = pd.read_csv('../datasets/' + dataset_name + '/regular/' + dataset_name + '_test.csv')\n",
    "# df_val = pd.read_csv('../datasets/' + dataset_name + '/regular/' + dataset_name + '_val.csv')"
   ]
  },
  {
   "cell_type": "code",
   "execution_count": 25,
   "id": "6ab45e18-e921-458a-bdad-04be18745392",
   "metadata": {},
   "outputs": [],
   "source": [
    "dataset_name = 'abalone'\n",
    "perc = 1\n",
    "\n",
    "df_train = pd.read_csv(f'../datasets/{dataset_name}/extreme/{perc}/{dataset_name}_train_perc{perc}.csv')\n",
    "df_test = pd.read_csv(f'../datasets/{dataset_name}/extreme/{perc}/{dataset_name}_test_perc{perc}.csv')"
   ]
  },
  {
   "cell_type": "code",
   "execution_count": 26,
   "id": "b493f2f3-4662-4834-90e0-62cd447fd362",
   "metadata": {},
   "outputs": [
    {
     "name": "stdout",
     "output_type": "stream",
     "text": [
      "23\n"
     ]
    },
    {
     "data": {
      "text/plain": [
       "23"
      ]
     },
     "execution_count": 26,
     "metadata": {},
     "output_type": "execute_result"
    }
   ],
   "source": [
    "n_classes = len(set(df_train[df_train.columns[-1]]))\n",
    "print(n_classes)\n",
    "len(set(df_test[df_test.columns[-1]]))"
   ]
  },
  {
   "cell_type": "code",
   "execution_count": 27,
   "id": "f3032d69-56ea-42ee-9282-588942e181cc",
   "metadata": {},
   "outputs": [],
   "source": [
    "if any(isinstance(df_train[x][0], str) for x in df_train.columns):\n",
    "    ### ----- IF DATA IS CATEGORICAL ----- ##\n",
    "    print(\"Categorical data - let's one hot encode the features!\\n\")\n",
    "    print(\"Number of features before:\", len(df_train.columns))\n",
    "    df_train['set type'] = 'train'\n",
    "    df_test['set type'] = 'test'\n",
    "#     df_val['set type'] = 'val'\n",
    "\n",
    "#     total_df = pd.concat([df_train, df_test, df_val])\n",
    "    total_df = pd.concat([df_train, df_test])\n",
    "    cols = list(total_df.columns)\n",
    "    total_df = pd.get_dummies(total_df, columns=total_df.columns[:-2])\n",
    "    \n",
    "    cols = list(total_df.columns)\n",
    "    cols = cols[1:] + cols[:1]\n",
    "    total_df = total_df[cols]\n",
    "    \n",
    "    df_train = total_df[total_df['set type'] == 'train']\n",
    "    df_test = total_df[total_df['set type'] == 'test']\n",
    "#     df_val = total_df[total_df['set type'] == 'val']\n",
    "\n",
    "    del df_train['set type']\n",
    "    del df_test['set type']\n",
    "#     del df_val['set type']\n",
    "    \n",
    "    print(\"Number of features after one hot encoding:\", len(df_train.columns))"
   ]
  },
  {
   "cell_type": "code",
   "execution_count": 28,
   "id": "63e065b6-8336-44bd-b405-a994f1ffb57e",
   "metadata": {},
   "outputs": [],
   "source": [
    "target_name = df_train.columns[-1]\n",
    "X_train, y_train = df_train.drop([target_name], axis='columns'), df_train[target_name]\n",
    "X_test, y_test = df_test.drop([target_name], axis='columns'), df_test[target_name]\n",
    "# X_val, y_val = df_val.drop([target_name], axis='columns'), df_val[target_name]"
   ]
  },
  {
   "cell_type": "markdown",
   "id": "b0606bee-3020-483b-bead-8ff93c618956",
   "metadata": {},
   "source": [
    "#### 2. Train data using the randomforest classifier"
   ]
  },
  {
   "cell_type": "code",
   "execution_count": 29,
   "id": "aaf3b51c-6407-4519-9019-7733b03a1b0f",
   "metadata": {},
   "outputs": [],
   "source": [
    "model = RandomForestClassifier(n_estimators=40)"
   ]
  },
  {
   "cell_type": "code",
   "execution_count": 35,
   "id": "c8deb31b-b697-4d8f-8c24-8317e5c4413b",
   "metadata": {},
   "outputs": [
    {
     "data": {
      "text/plain": [
       "0.2012372634643377"
      ]
     },
     "execution_count": 35,
     "metadata": {},
     "output_type": "execute_result"
    }
   ],
   "source": [
    "total_sum = 0\n",
    "n_iter = 50\n",
    "for i in range(n_iter):\n",
    "    model.fit(X_train, y_train)\n",
    "    s = model.score(X_test, y_test)\n",
    "    total_sum += s\n",
    "total_sum/n_iter"
   ]
  },
  {
   "cell_type": "markdown",
   "id": "a53ae600-8e60-4a50-8a75-b6bfce1c72e4",
   "metadata": {},
   "source": [
    "On validation set"
   ]
  },
  {
   "cell_type": "code",
   "execution_count": 31,
   "id": "3bac2906-cd71-4a36-a48c-b7416487a4c3",
   "metadata": {},
   "outputs": [],
   "source": [
    "# model.score(X_val, y_val)"
   ]
  },
  {
   "cell_type": "markdown",
   "id": "932a67a6-0351-4be7-99d6-5d98e72594bc",
   "metadata": {},
   "source": [
    "#### 3. Evaluate test set with confusion matrix"
   ]
  },
  {
   "cell_type": "code",
   "execution_count": 32,
   "id": "d232a074-ad77-44d3-8f09-d19e2993087c",
   "metadata": {},
   "outputs": [],
   "source": [
    "y_pred = model.predict(X_test)"
   ]
  },
  {
   "cell_type": "code",
   "execution_count": 33,
   "id": "15236524-7af6-457d-8163-3109269cc9d6",
   "metadata": {},
   "outputs": [
    {
     "data": {
      "text/plain": [
       "array([[ 12,   1,   1,   0,   0,   0,   0,   0,   0,   0,   0,   0,   0,\n",
       "          0,   0,   0,   0,   0,   0,   0,   0,   0,   0],\n",
       "       [ 28,  19,   3,   2,   4,   0,   0,   0,   0,   0,   0,   0,   0,\n",
       "          0,   0,   0,   0,   0,   0,   0,   0,   0,   0],\n",
       "       [ 13,  34,   8,  20,  39,   0,   0,   0,   0,   0,   0,   0,   0,\n",
       "          0,   0,   0,   0,   0,   0,   0,   0,   0,   0],\n",
       "       [  3,  20,   6,  48, 157,   9,  12,   0,   1,   0,   0,   0,   0,\n",
       "          0,   0,   1,   0,   0,   0,   0,   0,   0,   0],\n",
       "       [  0,   8,   6,  98, 171,  44,  52,   4,   4,   0,   0,   0,   0,\n",
       "          0,   0,   0,   0,   0,   0,   0,   0,   0,   0],\n",
       "       [  0,   3,   1, 112,  85, 153, 137,  39,  20,   5,   1,   2,   0,\n",
       "          0,   0,   2,   0,   1,   0,   1,   0,   0,   0],\n",
       "       [  0,   1,   0,  52,  56, 183, 157, 113,  91,   7,   2,   2,   1,\n",
       "          0,   0,   2,   3,   9,   0,   3,   0,   0,   0],\n",
       "       [  0,   0,   0,  13,  50, 121, 127, 105, 134,  18,   6,   0,   3,\n",
       "          1,   1,   2,   5,  30,   1,   3,   2,   6,   0],\n",
       "       [  0,   0,   0,  13,  20,  71,  72,  78, 122,  13,   4,   2,   4,\n",
       "          1,   1,   2,   8,  55,   0,   5,   0,  11,   0],\n",
       "       [  0,   0,   0,   6,  10,  46,  46,  37,  51,   7,  12,   0,   2,\n",
       "          1,   1,   0,   2,  31,   1,   6,   1,   3,   1],\n",
       "       [  0,   0,   0,   8,   5,  24,  38,  28,  30,  18,   9,   2,   2,\n",
       "          0,   4,   5,   4,  18,   0,   3,   0,   1,   2],\n",
       "       [  0,   0,   0,   3,   1,  13,  29,  23,  18,   7,   6,   0,   2,\n",
       "          2,   1,   1,   1,   7,   1,   4,   2,   3,   1],\n",
       "       [  0,   0,   0,   3,   1,  16,  20,  17,  12,  11,   4,   0,   4,\n",
       "          0,   1,   3,   5,   2,   0,   2,   0,   1,   0],\n",
       "       [  0,   0,   0,   2,   0,   6,  11,   8,   5,   6,   7,   0,   2,\n",
       "          2,   2,   5,   1,   2,   0,   1,   1,   4,   1],\n",
       "       [  0,   0,   0,   0,   0,   9,   7,   7,   9,   6,   3,   0,   3,\n",
       "          0,   1,   2,   2,   3,   0,   1,   0,   2,   2],\n",
       "       [  0,   0,   0,   1,   1,   5,   3,   6,  10,   3,   4,   0,   2,\n",
       "          0,   1,   1,   2,   1,   0,   0,   0,   1,   0],\n",
       "       [  0,   0,   0,   1,   0,   6,   1,  10,   2,   1,   4,   0,   0,\n",
       "          0,   1,   0,   1,   2,   0,   1,   0,   0,   1],\n",
       "       [  0,   0,   0,   0,   0,   3,   2,   6,   4,   1,   5,   0,   0,\n",
       "          0,   1,   1,   0,   1,   0,   0,   0,   1,   0],\n",
       "       [  0,   0,   0,   0,   0,   2,   1,   0,   5,   0,   1,   0,   0,\n",
       "          0,   1,   1,   1,   0,   0,   1,   0,   0,   0],\n",
       "       [  0,   0,   0,   0,   0,   0,   2,   0,   1,   0,   1,   0,   0,\n",
       "          0,   0,   0,   0,   0,   0,   0,   0,   1,   0],\n",
       "       [  0,   0,   0,   0,   0,   1,   1,   0,   0,   2,   0,   0,   0,\n",
       "          0,   1,   1,   0,   1,   0,   1,   0,   0,   0],\n",
       "       [  0,   0,   0,   0,   0,   0,   0,   0,   0,   0,   0,   0,   0,\n",
       "          0,   0,   0,   1,   0,   0,   0,   0,   0,   0],\n",
       "       [  0,   0,   0,   0,   0,   0,   0,   0,   0,   0,   0,   0,   0,\n",
       "          0,   1,   0,   0,   0,   0,   0,   0,   0,   0]])"
      ]
     },
     "execution_count": 33,
     "metadata": {},
     "output_type": "execute_result"
    }
   ],
   "source": [
    "cm = confusion_matrix(y_test, y_pred)\n",
    "cm"
   ]
  },
  {
   "cell_type": "markdown",
   "id": "1c0e9024-94f5-4d12-93af-1d8ef7b7048d",
   "metadata": {},
   "source": [
    "#### 4. Plot results"
   ]
  },
  {
   "cell_type": "code",
   "execution_count": 34,
   "id": "12f29639-79f7-426b-b8fb-ab97897b3961",
   "metadata": {},
   "outputs": [
    {
     "data": {
      "text/plain": [
       "Text(33.0, 0.5, 'true')"
      ]
     },
     "execution_count": 34,
     "metadata": {},
     "output_type": "execute_result"
    },
    {
     "data": {
      "image/png": "[encoded data removed]",
      "text/plain": [
       "<Figure size 432x288 with 2 Axes>"
      ]
     },
     "metadata": {
      "needs_background": "light"
     },
     "output_type": "display_data"
    }
   ],
   "source": [
    "sn.heatmap(cm, annot=True)\n",
    "plt.xlabel('pred')\n",
    "plt.ylabel('true')"
   ]
  },
  {
   "cell_type": "code",
   "execution_count": null,
   "id": "4b1a8eb6-2e3f-4e35-9812-d88356282d2b",
   "metadata": {},
   "outputs": [],
   "source": []
  },
  {
   "cell_type": "code",
   "execution_count": null,
   "id": "713f3ec9-1a26-41a1-94a6-af513db27a75",
   "metadata": {},
   "outputs": [],
   "source": []
  },
  {
   "cell_type": "code",
   "execution_count": null,
   "id": "65ac9d3d-f165-4490-81ba-c5cbe8cfc254",
   "metadata": {},
   "outputs": [],
   "source": []
  }
 ],
 "metadata": {
  "kernelspec": {
   "display_name": "Deep Learning",
   "language": "python",
   "name": "dl"
  },
  "language_info": {
   "codemirror_mode": {
    "name": "ipython",
    "version": 3
   },
   "file_extension": ".py",
   "mimetype": "text/x-python",
   "name": "python",
   "nbconvert_exporter": "python",
   "pygments_lexer": "ipython3",
   "version": "3.6.13"
  }
 },
 "nbformat": 4,
 "nbformat_minor": 5
}
