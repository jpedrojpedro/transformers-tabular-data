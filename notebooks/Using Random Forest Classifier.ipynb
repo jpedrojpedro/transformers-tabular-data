{
 "cells": [
  {
   "cell_type": "code",
   "execution_count": 3,
   "id": "172fee13-46c3-4a21-862f-485b14a2d684",
   "metadata": {},
   "outputs": [],
   "source": [
    "from sklearn.model_selection import train_test_split\n",
    "from sklearn.ensemble import RandomForestClassifier\n",
    "from sklearn.metrics import confusion_matrix\n",
    "import matplotlib.pyplot as plt\n",
    "import seaborn as sn\n",
    "import pandas as pd"
   ]
  },
  {
   "cell_type": "markdown",
   "id": "e7fe394d-3b2d-4dfe-8e83-595a2f3f94c0",
   "metadata": {},
   "source": [
    "#### 1. Load datasets"
   ]
  },
  {
   "cell_type": "code",
   "execution_count": 16,
   "id": "d1871ef7-a0c3-4498-b317-c27af227285e",
   "metadata": {},
   "outputs": [],
   "source": [
    "dataset_name = 'iris'\n",
    "perc = 100\n",
    "\n",
    "df_train = pd.read_csv(f'../datasets/{dataset_name}/regular/{dataset_name}_train_perc{perc}.csv')\n",
    "df_test = pd.read_csv('../datasets/' + dataset_name + '/regular/' + dataset_name + '_test.csv')\n",
    "df_val = pd.read_csv('../datasets/' + dataset_name + '/regular/' + dataset_name + '_val.csv')"
   ]
  },
  {
   "cell_type": "code",
   "execution_count": 73,
   "id": "6ab45e18-e921-458a-bdad-04be18745392",
   "metadata": {},
   "outputs": [],
   "source": [
    "dataset_name = 'iris'\n",
    "perc = 80\n",
    "\n",
    "df_train = pd.read_csv(f'../datasets/{dataset_name}/extreme/80/{dataset_name}_train_perc{perc}.csv')\n",
    "df_test = pd.read_csv('../datasets/' + dataset_name + '/extreme/80/' + dataset_name + '_train_perc' + str(perc) + '.csv')\n",
    "# df_val = pd.read_csv('../datasets/' + dataset_name + '/extreme/' + dataset_name + '_val.csv')"
   ]
  },
  {
   "cell_type": "code",
   "execution_count": null,
   "id": "218fe1e1-d2a1-4d9b-853e-e39ca7a04512",
   "metadata": {},
   "outputs": [],
   "source": []
  },
  {
   "cell_type": "code",
   "execution_count": 74,
   "id": "f3032d69-56ea-42ee-9282-588942e181cc",
   "metadata": {},
   "outputs": [],
   "source": [
    "if any(isinstance(df_train[x][0], str) for x in df_train.columns):\n",
    "    ### ----- IF DATA IS CATEGORICAL ----- ##\n",
    "    print(\"Categorical data - let's one hot encode the features!\\n\")\n",
    "    print(\"Number of features before:\", len(df_train.columns))\n",
    "    df_train['set type'] = 'train'\n",
    "    df_test['set type'] = 'test'\n",
    "    df_val['set type'] = 'val'\n",
    "\n",
    "    total_df = pd.concat([df_train, df_test, df_val])\n",
    "    total_df = pd.get_dummies(total_df, columns=total_df.columns[:-2])\n",
    "    \n",
    "    cols = list(total_df.columns)\n",
    "    cols = cols[1:] + cols[:1]\n",
    "    total_df = total_df[cols]\n",
    "    \n",
    "    df_train = total_df[total_df['set type'] == 'train']\n",
    "    df_test = total_df[total_df['set type'] == 'test']\n",
    "    df_val = total_df[total_df['set type'] == 'val']\n",
    "\n",
    "    del df_train['set type']\n",
    "    del df_test['set type']\n",
    "    del df_val['set type']\n",
    "    \n",
    "    print(\"Number of features after one hot encoding:\", len(df_train.columns))"
   ]
  },
  {
   "cell_type": "code",
   "execution_count": 75,
   "id": "63e065b6-8336-44bd-b405-a994f1ffb57e",
   "metadata": {},
   "outputs": [],
   "source": [
    "target_name = df_train.columns[-1]\n",
    "X_train, y_train = df_train.drop([target_name], axis='columns'), df_train[target_name]\n",
    "X_test, y_test = df_test.drop([target_name], axis='columns'), df_test[target_name]\n",
    "X_val, y_val = df_val.drop([target_name], axis='columns'), df_val[target_name]"
   ]
  },
  {
   "cell_type": "markdown",
   "id": "b0606bee-3020-483b-bead-8ff93c618956",
   "metadata": {},
   "source": [
    "#### 2. Train data using the randomforest classifier"
   ]
  },
  {
   "cell_type": "code",
   "execution_count": 83,
   "id": "aaf3b51c-6407-4519-9019-7733b03a1b0f",
   "metadata": {},
   "outputs": [],
   "source": [
    "model = RandomForestClassifier(n_estimators=40)"
   ]
  },
  {
   "cell_type": "code",
   "execution_count": 85,
   "id": "c8deb31b-b697-4d8f-8c24-8317e5c4413b",
   "metadata": {},
   "outputs": [
    {
     "data": {
      "text/plain": [
       "0.9991666666666668"
      ]
     },
     "execution_count": 85,
     "metadata": {},
     "output_type": "execute_result"
    }
   ],
   "source": [
    "total_sum = 0\n",
    "n_iter = 10\n",
    "for i in range(n_iter):\n",
    "    model.fit(X_train, y_train)\n",
    "    s = model.score(X_test, y_test)\n",
    "    total_sum += s\n",
    "total_sum/n_iter"
   ]
  },
  {
   "cell_type": "markdown",
   "id": "a53ae600-8e60-4a50-8a75-b6bfce1c72e4",
   "metadata": {},
   "source": [
    "On validation set"
   ]
  },
  {
   "cell_type": "code",
   "execution_count": 86,
   "id": "3bac2906-cd71-4a36-a48c-b7416487a4c3",
   "metadata": {},
   "outputs": [],
   "source": [
    "# model.score(X_val, y_val)"
   ]
  },
  {
   "cell_type": "markdown",
   "id": "932a67a6-0351-4be7-99d6-5d98e72594bc",
   "metadata": {},
   "source": [
    "#### 3. Evaluate test set with confusion matrix"
   ]
  },
  {
   "cell_type": "code",
   "execution_count": 87,
   "id": "d232a074-ad77-44d3-8f09-d19e2993087c",
   "metadata": {},
   "outputs": [],
   "source": [
    "y_pred = model.predict(X_test)"
   ]
  },
  {
   "cell_type": "code",
   "execution_count": 88,
   "id": "15236524-7af6-457d-8163-3109269cc9d6",
   "metadata": {},
   "outputs": [
    {
     "data": {
      "text/plain": [
       "array([[40,  0,  0],\n",
       "       [ 0, 40,  0],\n",
       "       [ 0,  0, 40]])"
      ]
     },
     "execution_count": 88,
     "metadata": {},
     "output_type": "execute_result"
    }
   ],
   "source": [
    "cm = confusion_matrix(y_test, y_pred)\n",
    "cm"
   ]
  },
  {
   "cell_type": "markdown",
   "id": "1c0e9024-94f5-4d12-93af-1d8ef7b7048d",
   "metadata": {},
   "source": [
    "#### 4. Plot results"
   ]
  },
  {
   "cell_type": "code",
   "execution_count": 89,
   "id": "12f29639-79f7-426b-b8fb-ab97897b3961",
   "metadata": {},
   "outputs": [
    {
     "data": {
      "text/plain": [
       "Text(33.0, 0.5, 'true')"
      ]
     },
     "execution_count": 89,
     "metadata": {},
     "output_type": "execute_result"
    },
    {
     "data": {
      "image/png": "[encoded data removed]",
      "text/plain": [
       "<Figure size 432x288 with 2 Axes>"
      ]
     },
     "metadata": {
      "needs_background": "light"
     },
     "output_type": "display_data"
    }
   ],
   "source": [
    "sn.heatmap(cm, annot=True)\n",
    "plt.xlabel('pred')\n",
    "plt.ylabel('true')"
   ]
  },
  {
   "cell_type": "code",
   "execution_count": null,
   "id": "4b1a8eb6-2e3f-4e35-9812-d88356282d2b",
   "metadata": {},
   "outputs": [],
   "source": []
  },
  {
   "cell_type": "code",
   "execution_count": null,
   "id": "713f3ec9-1a26-41a1-94a6-af513db27a75",
   "metadata": {},
   "outputs": [],
   "source": []
  },
  {
   "cell_type": "code",
   "execution_count": null,
   "id": "65ac9d3d-f165-4490-81ba-c5cbe8cfc254",
   "metadata": {},
   "outputs": [],
   "source": []
  }
 ],
 "metadata": {
  "kernelspec": {
   "display_name": "Deep Learning",
   "language": "python",
   "name": "dl"
  },
  "language_info": {
   "codemirror_mode": {
    "name": "ipython",
    "version": 3
   },
   "file_extension": ".py",
   "mimetype": "text/x-python",
   "name": "python",
   "nbconvert_exporter": "python",
   "pygments_lexer": "ipython3",
   "version": "3.6.13"
  }
 },
 "nbformat": 4,
 "nbformat_minor": 5
}
